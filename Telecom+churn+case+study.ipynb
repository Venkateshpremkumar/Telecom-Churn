{
 "cells": [
  {
   "cell_type": "markdown",
   "metadata": {},
   "source": [
    "## Telecom churn case study\n",
    "\n",
    "### Problem Statement\n",
    "\n",
    "####  In the telecom industry, customers are able to choose from multiple service providers and actively switch from one operator to another. In this highly competitive market, the telecommunications industry experiences an average of 15-25% annual churn rate. Given the fact that it costs 5-10 times more to acquire a new customer than to retain an existing one, customer retention has now become even more important than customer acquisition.\n",
    "#### For many incumbent operators, retaining high profitable customers is the number one business goal.\n",
    "#### To reduce customer churn, telecom companies need to predict which customers are at high risk of churn.\n",
    "#### In this project, we will analyse customer-level data of a leading telecom firm, build predictive models to identify customers at high risk of churn and identify the main indicators of churn."
   ]
  },
  {
   "cell_type": "code",
   "execution_count": 1,
   "metadata": {},
   "outputs": [],
   "source": [
    "# importing required libraries\n",
    "\n",
    "import numpy as np\n",
    "import pandas as pd\n",
    "import matplotlib.pyplot as plt\n",
    "import seaborn as sns\n",
    "\n",
    "\n",
    "# Supress Warnings\n",
    "import warnings\n",
    "warnings.filterwarnings('ignore')"
   ]
  },
  {
   "cell_type": "code",
   "execution_count": 2,
   "metadata": {},
   "outputs": [],
   "source": [
    "# read data\n",
    "telkom_df = pd.read_csv(\"telecom_churn_data.csv\")"
   ]
  },
  {
   "cell_type": "code",
   "execution_count": 80,
   "metadata": {},
   "outputs": [
    {
     "data": {
      "text/html": [
       "<div>\n",
       "<style scoped>\n",
       "    .dataframe tbody tr th:only-of-type {\n",
       "        vertical-align: middle;\n",
       "    }\n",
       "\n",
       "    .dataframe tbody tr th {\n",
       "        vertical-align: top;\n",
       "    }\n",
       "\n",
       "    .dataframe thead th {\n",
       "        text-align: right;\n",
       "    }\n",
       "</style>\n",
       "<table border=\"1\" class=\"dataframe\">\n",
       "  <thead>\n",
       "    <tr style=\"text-align: right;\">\n",
       "      <th></th>\n",
       "      <th>arpu_6</th>\n",
       "      <th>arpu_7</th>\n",
       "      <th>arpu_8</th>\n",
       "      <th>onnet_mou_6</th>\n",
       "      <th>onnet_mou_7</th>\n",
       "      <th>onnet_mou_8</th>\n",
       "      <th>offnet_mou_6</th>\n",
       "      <th>offnet_mou_7</th>\n",
       "      <th>offnet_mou_8</th>\n",
       "      <th>roam_ic_mou_6</th>\n",
       "      <th>...</th>\n",
       "      <th>aug_vbc_3g</th>\n",
       "      <th>jul_vbc_3g</th>\n",
       "      <th>jun_vbc_3g</th>\n",
       "      <th>sep_vbc_3g</th>\n",
       "      <th>total_rech_6</th>\n",
       "      <th>total_rech_7</th>\n",
       "      <th>total_rech_avg_6_7</th>\n",
       "      <th>rech_date_diff_8_7</th>\n",
       "      <th>rech_date_diff_7_6</th>\n",
       "      <th>churn</th>\n",
       "    </tr>\n",
       "  </thead>\n",
       "  <tbody>\n",
       "    <tr>\n",
       "      <th>0</th>\n",
       "      <td>197.385</td>\n",
       "      <td>214.816</td>\n",
       "      <td>213.803</td>\n",
       "      <td>280.143527</td>\n",
       "      <td>290.724523</td>\n",
       "      <td>0.00</td>\n",
       "      <td>397.971199</td>\n",
       "      <td>407.279645</td>\n",
       "      <td>0.00</td>\n",
       "      <td>0.00</td>\n",
       "      <td>...</td>\n",
       "      <td>30.40</td>\n",
       "      <td>0.00</td>\n",
       "      <td>101.20</td>\n",
       "      <td>3.58</td>\n",
       "      <td>614.0</td>\n",
       "      <td>504.0</td>\n",
       "      <td>559.0</td>\n",
       "      <td>23.0</td>\n",
       "      <td>25.0</td>\n",
       "      <td>1</td>\n",
       "    </tr>\n",
       "    <tr>\n",
       "      <th>7</th>\n",
       "      <td>1069.180</td>\n",
       "      <td>1349.850</td>\n",
       "      <td>3171.480</td>\n",
       "      <td>57.840000</td>\n",
       "      <td>54.680000</td>\n",
       "      <td>52.29</td>\n",
       "      <td>453.430000</td>\n",
       "      <td>567.160000</td>\n",
       "      <td>325.91</td>\n",
       "      <td>16.23</td>\n",
       "      <td>...</td>\n",
       "      <td>57.74</td>\n",
       "      <td>19.38</td>\n",
       "      <td>18.74</td>\n",
       "      <td>0.00</td>\n",
       "      <td>1580.0</td>\n",
       "      <td>790.0</td>\n",
       "      <td>1185.0</td>\n",
       "      <td>32.0</td>\n",
       "      <td>28.0</td>\n",
       "      <td>1</td>\n",
       "    </tr>\n",
       "    <tr>\n",
       "      <th>8</th>\n",
       "      <td>378.721</td>\n",
       "      <td>492.223</td>\n",
       "      <td>137.362</td>\n",
       "      <td>413.690000</td>\n",
       "      <td>351.030000</td>\n",
       "      <td>35.08</td>\n",
       "      <td>94.660000</td>\n",
       "      <td>80.630000</td>\n",
       "      <td>136.48</td>\n",
       "      <td>0.00</td>\n",
       "      <td>...</td>\n",
       "      <td>21.03</td>\n",
       "      <td>910.65</td>\n",
       "      <td>122.16</td>\n",
       "      <td>0.00</td>\n",
       "      <td>437.0</td>\n",
       "      <td>778.0</td>\n",
       "      <td>607.5</td>\n",
       "      <td>30.0</td>\n",
       "      <td>36.0</td>\n",
       "      <td>0</td>\n",
       "    </tr>\n",
       "    <tr>\n",
       "      <th>16</th>\n",
       "      <td>430.975</td>\n",
       "      <td>299.869</td>\n",
       "      <td>187.894</td>\n",
       "      <td>50.510000</td>\n",
       "      <td>74.010000</td>\n",
       "      <td>70.61</td>\n",
       "      <td>296.290000</td>\n",
       "      <td>229.740000</td>\n",
       "      <td>162.76</td>\n",
       "      <td>0.00</td>\n",
       "      <td>...</td>\n",
       "      <td>0.00</td>\n",
       "      <td>2.45</td>\n",
       "      <td>21.89</td>\n",
       "      <td>0.00</td>\n",
       "      <td>570.0</td>\n",
       "      <td>348.0</td>\n",
       "      <td>459.0</td>\n",
       "      <td>14.0</td>\n",
       "      <td>31.0</td>\n",
       "      <td>0</td>\n",
       "    </tr>\n",
       "    <tr>\n",
       "      <th>21</th>\n",
       "      <td>514.453</td>\n",
       "      <td>597.753</td>\n",
       "      <td>637.760</td>\n",
       "      <td>102.410000</td>\n",
       "      <td>132.110000</td>\n",
       "      <td>85.14</td>\n",
       "      <td>757.930000</td>\n",
       "      <td>896.680000</td>\n",
       "      <td>983.39</td>\n",
       "      <td>0.00</td>\n",
       "      <td>...</td>\n",
       "      <td>0.00</td>\n",
       "      <td>0.00</td>\n",
       "      <td>0.00</td>\n",
       "      <td>0.00</td>\n",
       "      <td>600.0</td>\n",
       "      <td>680.0</td>\n",
       "      <td>640.0</td>\n",
       "      <td>31.0</td>\n",
       "      <td>31.0</td>\n",
       "      <td>0</td>\n",
       "    </tr>\n",
       "    <tr>\n",
       "      <th>33</th>\n",
       "      <td>977.020</td>\n",
       "      <td>2362.833</td>\n",
       "      <td>409.230</td>\n",
       "      <td>0.000000</td>\n",
       "      <td>0.000000</td>\n",
       "      <td>0.00</td>\n",
       "      <td>0.000000</td>\n",
       "      <td>0.000000</td>\n",
       "      <td>0.00</td>\n",
       "      <td>0.00</td>\n",
       "      <td>...</td>\n",
       "      <td>358.10</td>\n",
       "      <td>2706.83</td>\n",
       "      <td>1714.67</td>\n",
       "      <td>0.00</td>\n",
       "      <td>2115.0</td>\n",
       "      <td>5359.0</td>\n",
       "      <td>3737.0</td>\n",
       "      <td>27.0</td>\n",
       "      <td>30.0</td>\n",
       "      <td>0</td>\n",
       "    </tr>\n",
       "    <tr>\n",
       "      <th>38</th>\n",
       "      <td>363.987</td>\n",
       "      <td>486.558</td>\n",
       "      <td>393.909</td>\n",
       "      <td>248.990000</td>\n",
       "      <td>619.960000</td>\n",
       "      <td>666.38</td>\n",
       "      <td>88.860000</td>\n",
       "      <td>50.580000</td>\n",
       "      <td>97.81</td>\n",
       "      <td>0.00</td>\n",
       "      <td>...</td>\n",
       "      <td>0.00</td>\n",
       "      <td>0.00</td>\n",
       "      <td>0.00</td>\n",
       "      <td>0.00</td>\n",
       "      <td>420.0</td>\n",
       "      <td>636.0</td>\n",
       "      <td>528.0</td>\n",
       "      <td>27.0</td>\n",
       "      <td>28.0</td>\n",
       "      <td>0</td>\n",
       "    </tr>\n",
       "    <tr>\n",
       "      <th>41</th>\n",
       "      <td>482.832</td>\n",
       "      <td>425.764</td>\n",
       "      <td>229.769</td>\n",
       "      <td>86.390000</td>\n",
       "      <td>118.880000</td>\n",
       "      <td>80.44</td>\n",
       "      <td>232.360000</td>\n",
       "      <td>280.780000</td>\n",
       "      <td>136.69</td>\n",
       "      <td>0.00</td>\n",
       "      <td>...</td>\n",
       "      <td>0.00</td>\n",
       "      <td>0.00</td>\n",
       "      <td>0.00</td>\n",
       "      <td>0.00</td>\n",
       "      <td>496.0</td>\n",
       "      <td>510.0</td>\n",
       "      <td>503.0</td>\n",
       "      <td>40.0</td>\n",
       "      <td>28.0</td>\n",
       "      <td>0</td>\n",
       "    </tr>\n",
       "    <tr>\n",
       "      <th>48</th>\n",
       "      <td>1873.271</td>\n",
       "      <td>575.927</td>\n",
       "      <td>179.218</td>\n",
       "      <td>2061.690000</td>\n",
       "      <td>881.430000</td>\n",
       "      <td>156.91</td>\n",
       "      <td>1087.760000</td>\n",
       "      <td>258.290000</td>\n",
       "      <td>68.18</td>\n",
       "      <td>0.00</td>\n",
       "      <td>...</td>\n",
       "      <td>0.00</td>\n",
       "      <td>0.00</td>\n",
       "      <td>0.00</td>\n",
       "      <td>0.00</td>\n",
       "      <td>2317.0</td>\n",
       "      <td>580.0</td>\n",
       "      <td>1448.5</td>\n",
       "      <td>36.0</td>\n",
       "      <td>24.0</td>\n",
       "      <td>0</td>\n",
       "    </tr>\n",
       "    <tr>\n",
       "      <th>53</th>\n",
       "      <td>978.077</td>\n",
       "      <td>1141.296</td>\n",
       "      <td>706.020</td>\n",
       "      <td>135.140000</td>\n",
       "      <td>119.590000</td>\n",
       "      <td>102.69</td>\n",
       "      <td>479.310000</td>\n",
       "      <td>543.180000</td>\n",
       "      <td>261.34</td>\n",
       "      <td>0.00</td>\n",
       "      <td>...</td>\n",
       "      <td>0.00</td>\n",
       "      <td>0.00</td>\n",
       "      <td>0.00</td>\n",
       "      <td>0.00</td>\n",
       "      <td>1245.0</td>\n",
       "      <td>1487.0</td>\n",
       "      <td>1366.0</td>\n",
       "      <td>26.0</td>\n",
       "      <td>32.0</td>\n",
       "      <td>0</td>\n",
       "    </tr>\n",
       "  </tbody>\n",
       "</table>\n",
       "<p>10 rows × 155 columns</p>\n",
       "</div>"
      ],
      "text/plain": [
       "      arpu_6    arpu_7    arpu_8  onnet_mou_6  onnet_mou_7  onnet_mou_8  \\\n",
       "0    197.385   214.816   213.803   280.143527   290.724523         0.00   \n",
       "7   1069.180  1349.850  3171.480    57.840000    54.680000        52.29   \n",
       "8    378.721   492.223   137.362   413.690000   351.030000        35.08   \n",
       "16   430.975   299.869   187.894    50.510000    74.010000        70.61   \n",
       "21   514.453   597.753   637.760   102.410000   132.110000        85.14   \n",
       "33   977.020  2362.833   409.230     0.000000     0.000000         0.00   \n",
       "38   363.987   486.558   393.909   248.990000   619.960000       666.38   \n",
       "41   482.832   425.764   229.769    86.390000   118.880000        80.44   \n",
       "48  1873.271   575.927   179.218  2061.690000   881.430000       156.91   \n",
       "53   978.077  1141.296   706.020   135.140000   119.590000       102.69   \n",
       "\n",
       "    offnet_mou_6  offnet_mou_7  offnet_mou_8  roam_ic_mou_6  ...  aug_vbc_3g  \\\n",
       "0     397.971199    407.279645          0.00           0.00  ...       30.40   \n",
       "7     453.430000    567.160000        325.91          16.23  ...       57.74   \n",
       "8      94.660000     80.630000        136.48           0.00  ...       21.03   \n",
       "16    296.290000    229.740000        162.76           0.00  ...        0.00   \n",
       "21    757.930000    896.680000        983.39           0.00  ...        0.00   \n",
       "33      0.000000      0.000000          0.00           0.00  ...      358.10   \n",
       "38     88.860000     50.580000         97.81           0.00  ...        0.00   \n",
       "41    232.360000    280.780000        136.69           0.00  ...        0.00   \n",
       "48   1087.760000    258.290000         68.18           0.00  ...        0.00   \n",
       "53    479.310000    543.180000        261.34           0.00  ...        0.00   \n",
       "\n",
       "    jul_vbc_3g  jun_vbc_3g  sep_vbc_3g  total_rech_6  total_rech_7  \\\n",
       "0         0.00      101.20        3.58         614.0         504.0   \n",
       "7        19.38       18.74        0.00        1580.0         790.0   \n",
       "8       910.65      122.16        0.00         437.0         778.0   \n",
       "16        2.45       21.89        0.00         570.0         348.0   \n",
       "21        0.00        0.00        0.00         600.0         680.0   \n",
       "33     2706.83     1714.67        0.00        2115.0        5359.0   \n",
       "38        0.00        0.00        0.00         420.0         636.0   \n",
       "41        0.00        0.00        0.00         496.0         510.0   \n",
       "48        0.00        0.00        0.00        2317.0         580.0   \n",
       "53        0.00        0.00        0.00        1245.0        1487.0   \n",
       "\n",
       "    total_rech_avg_6_7  rech_date_diff_8_7  rech_date_diff_7_6  churn  \n",
       "0                559.0                23.0                25.0      1  \n",
       "7               1185.0                32.0                28.0      1  \n",
       "8                607.5                30.0                36.0      0  \n",
       "16               459.0                14.0                31.0      0  \n",
       "21               640.0                31.0                31.0      0  \n",
       "33              3737.0                27.0                30.0      0  \n",
       "38               528.0                27.0                28.0      0  \n",
       "41               503.0                40.0                28.0      0  \n",
       "48              1448.5                36.0                24.0      0  \n",
       "53              1366.0                26.0                32.0      0  \n",
       "\n",
       "[10 rows x 155 columns]"
      ]
     },
     "execution_count": 80,
     "metadata": {},
     "output_type": "execute_result"
    }
   ],
   "source": [
    "# look at initial rows of the data\n",
    "telkom_df.head(10)"
   ]
  },
  {
   "cell_type": "code",
   "execution_count": 81,
   "metadata": {},
   "outputs": [
    {
     "data": {
      "text/plain": [
       "(28852, 155)"
      ]
     },
     "execution_count": 81,
     "metadata": {},
     "output_type": "execute_result"
    }
   ],
   "source": [
    "# dataframe shape\n",
    "telkom_df.shape"
   ]
  },
  {
   "cell_type": "code",
   "execution_count": 3,
   "metadata": {},
   "outputs": [],
   "source": [
    "#Droping  mobile_number because it won't have any effect\n",
    "telkom_df = telkom_df.drop(['mobile_number','circle_id'] ,axis=1)"
   ]
  },
  {
   "cell_type": "code",
   "execution_count": 82,
   "metadata": {},
   "outputs": [
    {
     "name": "stdout",
     "output_type": "stream",
     "text": [
      "<class 'pandas.core.frame.DataFrame'>\n",
      "Int64Index: 28852 entries, 0 to 99997\n",
      "Data columns (total 155 columns):\n",
      " #   Column              Dtype  \n",
      "---  ------              -----  \n",
      " 0   arpu_6              float64\n",
      " 1   arpu_7              float64\n",
      " 2   arpu_8              float64\n",
      " 3   onnet_mou_6         float64\n",
      " 4   onnet_mou_7         float64\n",
      " 5   onnet_mou_8         float64\n",
      " 6   offnet_mou_6        float64\n",
      " 7   offnet_mou_7        float64\n",
      " 8   offnet_mou_8        float64\n",
      " 9   roam_ic_mou_6       float64\n",
      " 10  roam_ic_mou_7       float64\n",
      " 11  roam_ic_mou_8       float64\n",
      " 12  roam_og_mou_6       float64\n",
      " 13  roam_og_mou_7       float64\n",
      " 14  roam_og_mou_8       float64\n",
      " 15  loc_og_t2t_mou_6    float64\n",
      " 16  loc_og_t2t_mou_7    float64\n",
      " 17  loc_og_t2t_mou_8    float64\n",
      " 18  loc_og_t2m_mou_6    float64\n",
      " 19  loc_og_t2m_mou_7    float64\n",
      " 20  loc_og_t2m_mou_8    float64\n",
      " 21  loc_og_t2f_mou_6    float64\n",
      " 22  loc_og_t2f_mou_7    float64\n",
      " 23  loc_og_t2f_mou_8    float64\n",
      " 24  loc_og_t2c_mou_6    float64\n",
      " 25  loc_og_t2c_mou_7    float64\n",
      " 26  loc_og_t2c_mou_8    float64\n",
      " 27  loc_og_mou_6        float64\n",
      " 28  loc_og_mou_7        float64\n",
      " 29  loc_og_mou_8        float64\n",
      " 30  std_og_t2t_mou_6    float64\n",
      " 31  std_og_t2t_mou_7    float64\n",
      " 32  std_og_t2t_mou_8    float64\n",
      " 33  std_og_t2m_mou_6    float64\n",
      " 34  std_og_t2m_mou_7    float64\n",
      " 35  std_og_t2m_mou_8    float64\n",
      " 36  std_og_t2f_mou_6    float64\n",
      " 37  std_og_t2f_mou_7    float64\n",
      " 38  std_og_t2f_mou_8    float64\n",
      " 39  std_og_mou_6        float64\n",
      " 40  std_og_mou_7        float64\n",
      " 41  std_og_mou_8        float64\n",
      " 42  isd_og_mou_6        float64\n",
      " 43  isd_og_mou_7        float64\n",
      " 44  isd_og_mou_8        float64\n",
      " 45  spl_og_mou_6        float64\n",
      " 46  spl_og_mou_7        float64\n",
      " 47  spl_og_mou_8        float64\n",
      " 48  og_others_6         float64\n",
      " 49  og_others_7         float64\n",
      " 50  og_others_8         float64\n",
      " 51  total_og_mou_6      float64\n",
      " 52  total_og_mou_7      float64\n",
      " 53  total_og_mou_8      float64\n",
      " 54  loc_ic_t2t_mou_6    float64\n",
      " 55  loc_ic_t2t_mou_7    float64\n",
      " 56  loc_ic_t2t_mou_8    float64\n",
      " 57  loc_ic_t2m_mou_6    float64\n",
      " 58  loc_ic_t2m_mou_7    float64\n",
      " 59  loc_ic_t2m_mou_8    float64\n",
      " 60  loc_ic_t2f_mou_6    float64\n",
      " 61  loc_ic_t2f_mou_7    float64\n",
      " 62  loc_ic_t2f_mou_8    float64\n",
      " 63  loc_ic_mou_6        float64\n",
      " 64  loc_ic_mou_7        float64\n",
      " 65  loc_ic_mou_8        float64\n",
      " 66  std_ic_t2t_mou_6    float64\n",
      " 67  std_ic_t2t_mou_7    float64\n",
      " 68  std_ic_t2t_mou_8    float64\n",
      " 69  std_ic_t2m_mou_6    float64\n",
      " 70  std_ic_t2m_mou_7    float64\n",
      " 71  std_ic_t2m_mou_8    float64\n",
      " 72  std_ic_t2f_mou_6    float64\n",
      " 73  std_ic_t2f_mou_7    float64\n",
      " 74  std_ic_t2f_mou_8    float64\n",
      " 75  std_ic_mou_6        float64\n",
      " 76  std_ic_mou_7        float64\n",
      " 77  std_ic_mou_8        float64\n",
      " 78  total_ic_mou_6      float64\n",
      " 79  total_ic_mou_7      float64\n",
      " 80  total_ic_mou_8      float64\n",
      " 81  spl_ic_mou_6        float64\n",
      " 82  spl_ic_mou_7        float64\n",
      " 83  spl_ic_mou_8        float64\n",
      " 84  isd_ic_mou_6        float64\n",
      " 85  isd_ic_mou_7        float64\n",
      " 86  isd_ic_mou_8        float64\n",
      " 87  ic_others_6         float64\n",
      " 88  ic_others_7         float64\n",
      " 89  ic_others_8         float64\n",
      " 90  total_rech_num_6    int64  \n",
      " 91  total_rech_num_7    int64  \n",
      " 92  total_rech_num_8    int64  \n",
      " 93  total_rech_amt_6    int64  \n",
      " 94  total_rech_amt_7    int64  \n",
      " 95  total_rech_amt_8    int64  \n",
      " 96  max_rech_amt_6      int64  \n",
      " 97  max_rech_amt_7      int64  \n",
      " 98  max_rech_amt_8      int64  \n",
      " 99  last_day_rch_amt_6  int64  \n",
      " 100 last_day_rch_amt_7  int64  \n",
      " 101 last_day_rch_amt_8  int64  \n",
      " 102 total_rech_data_6   float64\n",
      " 103 total_rech_data_7   float64\n",
      " 104 total_rech_data_8   float64\n",
      " 105 max_rech_data_6     float64\n",
      " 106 max_rech_data_7     float64\n",
      " 107 max_rech_data_8     float64\n",
      " 108 count_rech_2g_6     float64\n",
      " 109 count_rech_2g_7     float64\n",
      " 110 count_rech_2g_8     float64\n",
      " 111 count_rech_3g_6     float64\n",
      " 112 count_rech_3g_7     float64\n",
      " 113 count_rech_3g_8     float64\n",
      " 114 av_rech_amt_data_6  float64\n",
      " 115 av_rech_amt_data_7  float64\n",
      " 116 av_rech_amt_data_8  float64\n",
      " 117 vol_2g_mb_6         float64\n",
      " 118 vol_2g_mb_7         float64\n",
      " 119 vol_2g_mb_8         float64\n",
      " 120 vol_3g_mb_6         float64\n",
      " 121 vol_3g_mb_7         float64\n",
      " 122 vol_3g_mb_8         float64\n",
      " 123 arpu_3g_6           float64\n",
      " 124 arpu_3g_7           float64\n",
      " 125 arpu_3g_8           float64\n",
      " 126 arpu_2g_6           float64\n",
      " 127 arpu_2g_7           float64\n",
      " 128 arpu_2g_8           float64\n",
      " 129 monthly_2g_6        int64  \n",
      " 130 monthly_2g_7        int64  \n",
      " 131 monthly_2g_8        int64  \n",
      " 132 sachet_2g_6         int64  \n",
      " 133 sachet_2g_7         int64  \n",
      " 134 sachet_2g_8         int64  \n",
      " 135 monthly_3g_6        int64  \n",
      " 136 monthly_3g_7        int64  \n",
      " 137 monthly_3g_8        int64  \n",
      " 138 sachet_3g_6         int64  \n",
      " 139 sachet_3g_7         int64  \n",
      " 140 sachet_3g_8         int64  \n",
      " 141 fb_user_6           float64\n",
      " 142 fb_user_7           float64\n",
      " 143 fb_user_8           float64\n",
      " 144 aon                 int64  \n",
      " 145 aug_vbc_3g          float64\n",
      " 146 jul_vbc_3g          float64\n",
      " 147 jun_vbc_3g          float64\n",
      " 148 sep_vbc_3g          float64\n",
      " 149 total_rech_6        float64\n",
      " 150 total_rech_7        float64\n",
      " 151 total_rech_avg_6_7  float64\n",
      " 152 rech_date_diff_8_7  float64\n",
      " 153 rech_date_diff_7_6  float64\n",
      " 154 churn               int64  \n",
      "dtypes: float64(129), int64(26)\n",
      "memory usage: 35.6 MB\n"
     ]
    }
   ],
   "source": [
    "#Checking info of data \n",
    "telkom_df.info(verbose = 1)"
   ]
  },
  {
   "cell_type": "code",
   "execution_count": 84,
   "metadata": {},
   "outputs": [
    {
     "data": {
      "text/html": [
       "<div>\n",
       "<style scoped>\n",
       "    .dataframe tbody tr th:only-of-type {\n",
       "        vertical-align: middle;\n",
       "    }\n",
       "\n",
       "    .dataframe tbody tr th {\n",
       "        vertical-align: top;\n",
       "    }\n",
       "\n",
       "    .dataframe thead th {\n",
       "        text-align: right;\n",
       "    }\n",
       "</style>\n",
       "<table border=\"1\" class=\"dataframe\">\n",
       "  <thead>\n",
       "    <tr style=\"text-align: right;\">\n",
       "      <th></th>\n",
       "      <th>arpu_6</th>\n",
       "      <th>arpu_7</th>\n",
       "      <th>arpu_8</th>\n",
       "      <th>onnet_mou_6</th>\n",
       "      <th>onnet_mou_7</th>\n",
       "      <th>onnet_mou_8</th>\n",
       "      <th>offnet_mou_6</th>\n",
       "      <th>offnet_mou_7</th>\n",
       "      <th>offnet_mou_8</th>\n",
       "      <th>roam_ic_mou_6</th>\n",
       "      <th>...</th>\n",
       "      <th>aug_vbc_3g</th>\n",
       "      <th>jul_vbc_3g</th>\n",
       "      <th>jun_vbc_3g</th>\n",
       "      <th>sep_vbc_3g</th>\n",
       "      <th>total_rech_6</th>\n",
       "      <th>total_rech_7</th>\n",
       "      <th>total_rech_avg_6_7</th>\n",
       "      <th>rech_date_diff_8_7</th>\n",
       "      <th>rech_date_diff_7_6</th>\n",
       "      <th>churn</th>\n",
       "    </tr>\n",
       "  </thead>\n",
       "  <tbody>\n",
       "    <tr>\n",
       "      <th>count</th>\n",
       "      <td>28852.000000</td>\n",
       "      <td>28852.000000</td>\n",
       "      <td>28852.000000</td>\n",
       "      <td>28852.000000</td>\n",
       "      <td>28852.000000</td>\n",
       "      <td>28852.00000</td>\n",
       "      <td>28852.000000</td>\n",
       "      <td>28852.000000</td>\n",
       "      <td>28852.000000</td>\n",
       "      <td>28852.000000</td>\n",
       "      <td>...</td>\n",
       "      <td>28852.000000</td>\n",
       "      <td>28852.000000</td>\n",
       "      <td>28852.000000</td>\n",
       "      <td>28852.000000</td>\n",
       "      <td>28852.000000</td>\n",
       "      <td>28852.000000</td>\n",
       "      <td>28852.000000</td>\n",
       "      <td>28852.000000</td>\n",
       "      <td>28852.000000</td>\n",
       "      <td>28852.000000</td>\n",
       "    </tr>\n",
       "    <tr>\n",
       "      <th>mean</th>\n",
       "      <td>573.364815</td>\n",
       "      <td>584.079420</td>\n",
       "      <td>537.614179</td>\n",
       "      <td>280.143527</td>\n",
       "      <td>290.724523</td>\n",
       "      <td>261.43796</td>\n",
       "      <td>397.971199</td>\n",
       "      <td>407.279645</td>\n",
       "      <td>369.770238</td>\n",
       "      <td>16.785493</td>\n",
       "      <td>...</td>\n",
       "      <td>168.271493</td>\n",
       "      <td>175.632719</td>\n",
       "      <td>154.295208</td>\n",
       "      <td>7.776189</td>\n",
       "      <td>799.665559</td>\n",
       "      <td>818.721555</td>\n",
       "      <td>809.193557</td>\n",
       "      <td>30.403011</td>\n",
       "      <td>30.879822</td>\n",
       "      <td>0.061729</td>\n",
       "    </tr>\n",
       "    <tr>\n",
       "      <th>std</th>\n",
       "      <td>440.639603</td>\n",
       "      <td>470.720964</td>\n",
       "      <td>497.308953</td>\n",
       "      <td>456.952644</td>\n",
       "      <td>482.525920</td>\n",
       "      <td>466.20082</td>\n",
       "      <td>472.384441</td>\n",
       "      <td>493.408841</td>\n",
       "      <td>480.247263</td>\n",
       "      <td>77.969983</td>\n",
       "      <td>...</td>\n",
       "      <td>423.579011</td>\n",
       "      <td>447.524657</td>\n",
       "      <td>417.251236</td>\n",
       "      <td>51.999275</td>\n",
       "      <td>598.196980</td>\n",
       "      <td>633.773879</td>\n",
       "      <td>547.549621</td>\n",
       "      <td>5.585378</td>\n",
       "      <td>5.291576</td>\n",
       "      <td>0.240667</td>\n",
       "    </tr>\n",
       "    <tr>\n",
       "      <th>min</th>\n",
       "      <td>-2258.709000</td>\n",
       "      <td>-622.509000</td>\n",
       "      <td>-345.129000</td>\n",
       "      <td>0.000000</td>\n",
       "      <td>0.000000</td>\n",
       "      <td>0.00000</td>\n",
       "      <td>0.000000</td>\n",
       "      <td>0.000000</td>\n",
       "      <td>0.000000</td>\n",
       "      <td>0.000000</td>\n",
       "      <td>...</td>\n",
       "      <td>0.000000</td>\n",
       "      <td>0.000000</td>\n",
       "      <td>0.000000</td>\n",
       "      <td>0.000000</td>\n",
       "      <td>0.000000</td>\n",
       "      <td>0.000000</td>\n",
       "      <td>431.000000</td>\n",
       "      <td>1.000000</td>\n",
       "      <td>1.000000</td>\n",
       "      <td>0.000000</td>\n",
       "    </tr>\n",
       "    <tr>\n",
       "      <th>25%</th>\n",
       "      <td>345.244250</td>\n",
       "      <td>351.865000</td>\n",
       "      <td>280.839500</td>\n",
       "      <td>29.790000</td>\n",
       "      <td>29.130000</td>\n",
       "      <td>23.41000</td>\n",
       "      <td>106.730000</td>\n",
       "      <td>105.252500</td>\n",
       "      <td>84.427500</td>\n",
       "      <td>0.000000</td>\n",
       "      <td>...</td>\n",
       "      <td>0.000000</td>\n",
       "      <td>0.000000</td>\n",
       "      <td>0.000000</td>\n",
       "      <td>0.000000</td>\n",
       "      <td>500.000000</td>\n",
       "      <td>504.000000</td>\n",
       "      <td>524.500000</td>\n",
       "      <td>28.000000</td>\n",
       "      <td>29.000000</td>\n",
       "      <td>0.000000</td>\n",
       "    </tr>\n",
       "    <tr>\n",
       "      <th>50%</th>\n",
       "      <td>488.490500</td>\n",
       "      <td>492.158500</td>\n",
       "      <td>452.509000</td>\n",
       "      <td>110.725000</td>\n",
       "      <td>108.810000</td>\n",
       "      <td>93.86000</td>\n",
       "      <td>261.860000</td>\n",
       "      <td>261.785000</td>\n",
       "      <td>234.920000</td>\n",
       "      <td>0.000000</td>\n",
       "      <td>...</td>\n",
       "      <td>0.000000</td>\n",
       "      <td>0.000000</td>\n",
       "      <td>0.000000</td>\n",
       "      <td>0.000000</td>\n",
       "      <td>667.000000</td>\n",
       "      <td>677.000000</td>\n",
       "      <td>659.500000</td>\n",
       "      <td>31.000000</td>\n",
       "      <td>31.000000</td>\n",
       "      <td>0.000000</td>\n",
       "    </tr>\n",
       "    <tr>\n",
       "      <th>75%</th>\n",
       "      <td>697.507750</td>\n",
       "      <td>703.817500</td>\n",
       "      <td>675.756250</td>\n",
       "      <td>320.305000</td>\n",
       "      <td>328.237500</td>\n",
       "      <td>275.77750</td>\n",
       "      <td>505.422500</td>\n",
       "      <td>518.015000</td>\n",
       "      <td>470.432500</td>\n",
       "      <td>0.000000</td>\n",
       "      <td>...</td>\n",
       "      <td>115.170000</td>\n",
       "      <td>114.145000</td>\n",
       "      <td>76.275000</td>\n",
       "      <td>0.000000</td>\n",
       "      <td>954.000000</td>\n",
       "      <td>973.000000</td>\n",
       "      <td>916.500000</td>\n",
       "      <td>33.000000</td>\n",
       "      <td>33.000000</td>\n",
       "      <td>0.000000</td>\n",
       "    </tr>\n",
       "    <tr>\n",
       "      <th>max</th>\n",
       "      <td>27731.088000</td>\n",
       "      <td>35145.834000</td>\n",
       "      <td>33543.624000</td>\n",
       "      <td>7376.710000</td>\n",
       "      <td>8157.780000</td>\n",
       "      <td>10752.56000</td>\n",
       "      <td>8362.360000</td>\n",
       "      <td>9667.130000</td>\n",
       "      <td>14007.340000</td>\n",
       "      <td>2613.310000</td>\n",
       "      <td>...</td>\n",
       "      <td>12916.220000</td>\n",
       "      <td>9165.600000</td>\n",
       "      <td>11166.210000</td>\n",
       "      <td>2618.570000</td>\n",
       "      <td>35190.000000</td>\n",
       "      <td>40335.000000</td>\n",
       "      <td>37762.500000</td>\n",
       "      <td>61.000000</td>\n",
       "      <td>60.000000</td>\n",
       "      <td>1.000000</td>\n",
       "    </tr>\n",
       "  </tbody>\n",
       "</table>\n",
       "<p>8 rows × 155 columns</p>\n",
       "</div>"
      ],
      "text/plain": [
       "             arpu_6        arpu_7        arpu_8   onnet_mou_6   onnet_mou_7  \\\n",
       "count  28852.000000  28852.000000  28852.000000  28852.000000  28852.000000   \n",
       "mean     573.364815    584.079420    537.614179    280.143527    290.724523   \n",
       "std      440.639603    470.720964    497.308953    456.952644    482.525920   \n",
       "min    -2258.709000   -622.509000   -345.129000      0.000000      0.000000   \n",
       "25%      345.244250    351.865000    280.839500     29.790000     29.130000   \n",
       "50%      488.490500    492.158500    452.509000    110.725000    108.810000   \n",
       "75%      697.507750    703.817500    675.756250    320.305000    328.237500   \n",
       "max    27731.088000  35145.834000  33543.624000   7376.710000   8157.780000   \n",
       "\n",
       "       onnet_mou_8  offnet_mou_6  offnet_mou_7  offnet_mou_8  roam_ic_mou_6  \\\n",
       "count  28852.00000  28852.000000  28852.000000  28852.000000   28852.000000   \n",
       "mean     261.43796    397.971199    407.279645    369.770238      16.785493   \n",
       "std      466.20082    472.384441    493.408841    480.247263      77.969983   \n",
       "min        0.00000      0.000000      0.000000      0.000000       0.000000   \n",
       "25%       23.41000    106.730000    105.252500     84.427500       0.000000   \n",
       "50%       93.86000    261.860000    261.785000    234.920000       0.000000   \n",
       "75%      275.77750    505.422500    518.015000    470.432500       0.000000   \n",
       "max    10752.56000   8362.360000   9667.130000  14007.340000    2613.310000   \n",
       "\n",
       "       ...    aug_vbc_3g    jul_vbc_3g    jun_vbc_3g    sep_vbc_3g  \\\n",
       "count  ...  28852.000000  28852.000000  28852.000000  28852.000000   \n",
       "mean   ...    168.271493    175.632719    154.295208      7.776189   \n",
       "std    ...    423.579011    447.524657    417.251236     51.999275   \n",
       "min    ...      0.000000      0.000000      0.000000      0.000000   \n",
       "25%    ...      0.000000      0.000000      0.000000      0.000000   \n",
       "50%    ...      0.000000      0.000000      0.000000      0.000000   \n",
       "75%    ...    115.170000    114.145000     76.275000      0.000000   \n",
       "max    ...  12916.220000   9165.600000  11166.210000   2618.570000   \n",
       "\n",
       "       total_rech_6  total_rech_7  total_rech_avg_6_7  rech_date_diff_8_7  \\\n",
       "count  28852.000000  28852.000000        28852.000000        28852.000000   \n",
       "mean     799.665559    818.721555          809.193557           30.403011   \n",
       "std      598.196980    633.773879          547.549621            5.585378   \n",
       "min        0.000000      0.000000          431.000000            1.000000   \n",
       "25%      500.000000    504.000000          524.500000           28.000000   \n",
       "50%      667.000000    677.000000          659.500000           31.000000   \n",
       "75%      954.000000    973.000000          916.500000           33.000000   \n",
       "max    35190.000000  40335.000000        37762.500000           61.000000   \n",
       "\n",
       "       rech_date_diff_7_6         churn  \n",
       "count        28852.000000  28852.000000  \n",
       "mean            30.879822      0.061729  \n",
       "std              5.291576      0.240667  \n",
       "min              1.000000      0.000000  \n",
       "25%             29.000000      0.000000  \n",
       "50%             31.000000      0.000000  \n",
       "75%             33.000000      0.000000  \n",
       "max             60.000000      1.000000  \n",
       "\n",
       "[8 rows x 155 columns]"
      ]
     },
     "execution_count": 84,
     "metadata": {},
     "output_type": "execute_result"
    }
   ],
   "source": [
    "# data statistics\n",
    "telkom_df.describe()"
   ]
  },
  {
   "cell_type": "markdown",
   "metadata": {},
   "source": [
    "### Taking care of missing values in the given data set"
   ]
  },
  {
   "cell_type": "code",
   "execution_count": 4,
   "metadata": {},
   "outputs": [],
   "source": [
    "# summing up the missing values (column-wise)\n",
    "missing_per_df = round(100*(telkom_df.isnull().sum()/len(telkom_df.index)), 2).reset_index()\n",
    "major_column_missing = missing_per_df[missing_per_df[0] > 50]['index']"
   ]
  },
  {
   "cell_type": "code",
   "execution_count": 5,
   "metadata": {},
   "outputs": [],
   "source": [
    "#dropping columns with more than 90% missing values.\n",
    "telkom_df.drop(['night_pck_user_6','night_pck_user_7','night_pck_user_8','night_pck_user_9'],axis =1, inplace=True)"
   ]
  },
  {
   "cell_type": "code",
   "execution_count": 6,
   "metadata": {},
   "outputs": [],
   "source": [
    "missing_per_df = round(100*(telkom_df.isnull().sum()/len(telkom_df.index)), 2).reset_index()\n",
    "major_column_missing = missing_per_df[missing_per_df[0] > 50]['index']"
   ]
  },
  {
   "cell_type": "code",
   "execution_count": 7,
   "metadata": {},
   "outputs": [],
   "source": [
    "#calculating null values and replacing them with 0.\n",
    "major_numeric_column_missing=[]\n",
    "for col in major_column_missing:\n",
    "    if(np.issubdtype(telkom_df[col].dtype, np.number)):\n",
    "        major_numeric_column_missing.append(col)\n",
    "\n",
    "\n",
    "\n",
    "for col in major_numeric_column_missing:\n",
    "    telkom_df[col] = telkom_df[col].fillna(0)"
   ]
  },
  {
   "cell_type": "code",
   "execution_count": 8,
   "metadata": {},
   "outputs": [],
   "source": [
    "#creating new column with total amount (data + calling) for 6th and 7th month.\n",
    "telkom_df['total_rech_6'] = telkom_df['total_rech_amt_6'] +telkom_df['av_rech_amt_data_6']\n",
    "telkom_df['total_rech_7'] = telkom_df['total_rech_amt_7'] +telkom_df['av_rech_amt_data_7']\n",
    "telkom_df['total_rech_avg_6_7'] = (telkom_df['total_rech_6'] + telkom_df['total_rech_7'])/2"
   ]
  },
  {
   "cell_type": "code",
   "execution_count": 9,
   "metadata": {},
   "outputs": [],
   "source": [
    "#filtering high value customers(hvc) with 70% quantile.\n",
    "telkom_df['total_rech_avg_6_7'].quantile(0.7)\n",
    "telkom_df = telkom_df.loc[telkom_df['total_rech_avg_6_7'] >= telkom_df['total_rech_avg_6_7'].quantile(0.7)]"
   ]
  },
  {
   "cell_type": "code",
   "execution_count": 10,
   "metadata": {},
   "outputs": [
    {
     "name": "stdout",
     "output_type": "stream",
     "text": [
      "Dropping columns with missing values more than 10% : 155    date_of_last_rech_data_6\n",
      "156    date_of_last_rech_data_7\n",
      "157    date_of_last_rech_data_8\n",
      "158    date_of_last_rech_data_9\n",
      "Name: index, dtype: object\n"
     ]
    }
   ],
   "source": [
    "#dropping data columns which have more than 10% missing values.\n",
    "missing_per_df = round(100*(telkom_df.isnull().sum()/len(telkom_df.index)), 2).reset_index()\n",
    "major_column_missing = missing_per_df[missing_per_df[0] > 10]['index']\n",
    "print('Dropping columns with missing values more than 10% :',major_column_missing)\n",
    "telkom_df.drop(major_column_missing,axis=1,inplace=True)\n"
   ]
  },
  {
   "cell_type": "code",
   "execution_count": 11,
   "metadata": {},
   "outputs": [],
   "source": [
    "#Removing rows where values are null\n",
    "telkom_df = telkom_df.loc[telkom_df['last_date_of_month_9'].notnull()]\n",
    "telkom_df = telkom_df = telkom_df.loc[telkom_df['date_of_last_rech_8'].notnull()]\n",
    "telkom_df = telkom_df = telkom_df.loc[telkom_df['date_of_last_rech_9'].notnull()]"
   ]
  },
  {
   "cell_type": "code",
   "execution_count": 12,
   "metadata": {},
   "outputs": [
    {
     "name": "stdout",
     "output_type": "stream",
     "text": [
      "Number of columns missing values:  Series([], Name: index, dtype: object)\n",
      "Final Data shape :  (28852, 219)\n"
     ]
    }
   ],
   "source": [
    "#filling all null values to average.\n",
    "# If percentage of zeros in column is more than 50% than fill null values with 0 otherwise fill them with mean.\n",
    "\n",
    "missing_per_df = round(100*(telkom_df.isnull().sum()/len(telkom_df.index)), 2).reset_index()\n",
    "major_column_missing = missing_per_df[missing_per_df[0] > 1]['index']\n",
    "\n",
    "for col in major_column_missing:\n",
    "    if((telkom_df.loc[telkom_df[col] == 0].shape[0]/telkom_df.shape[0])*100 > 50 ):\n",
    "        telkom_df[col] = telkom_df[col].fillna(0)\n",
    "    else:\n",
    "        telkom_df[col] = telkom_df[col].fillna(telkom_df[col].mean())\n",
    "\n",
    "\n",
    "missing_per_df = round(100*(telkom_df.isnull().sum()/len(telkom_df.index)), 2).reset_index()\n",
    "major_column_missing = missing_per_df[missing_per_df[0] > 1]['index']\n",
    "\n",
    "print('Number of columns missing values: ', major_column_missing)\n",
    "print('Final Data shape : ',telkom_df.shape)"
   ]
  },
  {
   "cell_type": "code",
   "execution_count": 13,
   "metadata": {},
   "outputs": [],
   "source": [
    "#dropping columns with low variance\n",
    "telkom_df.var() < 1\n",
    "col_low_variance = ['loc_og_t2o_mou','std_og_t2o_mou','loc_ic_t2o_mou','last_date_of_month_6',\n",
    "                    'last_date_of_month_7','last_date_of_month_8','std_og_t2c_mou_6','std_og_t2c_mou_7',\n",
    "                    'std_og_t2c_mou_8','std_ic_t2o_mou_6','std_ic_t2o_mou_7','std_ic_t2o_mou_8']\n",
    "telkom_df = telkom_df.drop(col_low_variance,axis = 1)"
   ]
  },
  {
   "cell_type": "code",
   "execution_count": 14,
   "metadata": {},
   "outputs": [
    {
     "name": "stdout",
     "output_type": "stream",
     "text": [
      "object\n"
     ]
    }
   ],
   "source": [
    "#feature engineering date_of_last_rech_6,date_of_last_rech_7 and date_of_last_rech_8 to two new columns\n",
    "#rech_date_diff_7_6 and rech_date_diff_8_7 where rech_diff_6_7 contains difference between date_of_last_rech_7 and date_of_last_rech_6 \n",
    "# and rech_date_diff_8_7 contains difference between date_of_last_rech_7 and date_of_last_rech_8\n",
    "\n",
    "print(telkom_df.dtypes['date_of_last_rech_6'])\n",
    "telkom_df['date_of_last_rech_6'] = pd.to_datetime(telkom_df['date_of_last_rech_6'], format=\"%m/%d/%Y\")\n",
    "telkom_df['date_of_last_rech_7'] = pd.to_datetime(telkom_df['date_of_last_rech_7'], format=\"%m/%d/%Y\")\n",
    "telkom_df['date_of_last_rech_8'] = pd.to_datetime(telkom_df['date_of_last_rech_8'], format=\"%m/%d/%Y\")\n",
    "telkom_df['rech_date_diff_8_7'] = (telkom_df['date_of_last_rech_8'] - telkom_df['date_of_last_rech_7']).dt.days\n",
    "telkom_df['rech_date_diff_7_6'] = (telkom_df['date_of_last_rech_7'] - telkom_df['date_of_last_rech_6']).dt.days\n",
    "\n",
    "#filling NA with mean\n",
    "telkom_df['rech_date_diff_8_7'] = telkom_df['rech_date_diff_8_7'].fillna(telkom_df['rech_date_diff_8_7'].mean())\n",
    "telkom_df['rech_date_diff_7_6'] = telkom_df['rech_date_diff_7_6'].fillna(telkom_df['rech_date_diff_7_6'].mean())\n",
    "\n",
    "\n",
    "\n",
    "#dropping date columns\n",
    "telkom_df = telkom_df.drop(['date_of_last_rech_6','date_of_last_rech_7','date_of_last_rech_8'],axis=1)"
   ]
  },
  {
   "cell_type": "code",
   "execution_count": 15,
   "metadata": {},
   "outputs": [],
   "source": [
    "#Drop all the columns that only have a 0.\n",
    "for col in telkom_df.columns:\n",
    "    if ((telkom_df[col].max()==0) & (telkom_df[col].min()==0)):\n",
    "        telkom_df.drop(col,axis=1,inplace=True)\n",
    "        "
   ]
  },
  {
   "cell_type": "code",
   "execution_count": 16,
   "metadata": {},
   "outputs": [
    {
     "name": "stdout",
     "output_type": "stream",
     "text": [
      "Churn Rate :  6.172882295854707\n"
     ]
    }
   ],
   "source": [
    "#tagging step\n",
    "# computing y(churn/not churn) : \n",
    "#    if user didn't used total incoming , outgoing and total 29 , 3g data then consider it as churned user. \n",
    "\n",
    "def isChurn(x1,x2,x3,x4):\n",
    "    if((x1+x2)==0 and (x3+x4)==0):\n",
    "        return 1\n",
    "    else:\n",
    "        return 0\n",
    "    \n",
    "telkom_df['churn'] = telkom_df.apply(lambda x: isChurn(x.total_ic_mou_9, x.total_og_mou_9,x.vol_2g_mb_9, x.vol_3g_mb_9), axis=1)\n",
    "print('Churn Rate : ' ,((telkom_df['churn'] ==1).sum()/telkom_df.shape[0])*100)\n"
   ]
  },
  {
   "cell_type": "code",
   "execution_count": 17,
   "metadata": {},
   "outputs": [],
   "source": [
    "#Drop all the 9th month columns now\n",
    "ninth_month_cols = [col for col in telkom_df.columns if '_9' in col]\n",
    "telkom_df = telkom_df.drop(columns=ninth_month_cols, axis=1)"
   ]
  },
  {
   "cell_type": "code",
   "execution_count": 85,
   "metadata": {},
   "outputs": [
    {
     "data": {
      "text/plain": [
       "(28852, 155)"
      ]
     },
     "execution_count": 85,
     "metadata": {},
     "output_type": "execute_result"
    }
   ],
   "source": [
    "#final shape of data frame\n",
    "telkom_df.shape"
   ]
  },
  {
   "cell_type": "code",
   "execution_count": 54,
   "metadata": {},
   "outputs": [],
   "source": [
    "#importing required modules\n",
    "\n",
    "from sklearn.model_selection import train_test_split\n",
    "from sklearn.pipeline import Pipeline\n",
    "from sklearn.decomposition import PCA\n",
    "from sklearn.preprocessing import StandardScaler\n",
    "from sklearn.pipeline import FeatureUnion\n",
    "from sklearn.base import BaseEstimator, TransformerMixin\n",
    "from sklearn.linear_model import LogisticRegression\n",
    "from sklearn.metrics import classification_report\n",
    "from sklearn.metrics import roc_auc_score\n",
    "from sklearn.model_selection import StratifiedKFold\n",
    "from sklearn.model_selection import cross_val_score\n",
    "from sklearn.metrics import confusion_matrix\n",
    "from sklearn.model_selection import GridSearchCV\n",
    "from sklearn.ensemble import RandomForestClassifier\n",
    "from sklearn.ensemble import GradientBoostingClassifier\n",
    "from sklearn.svm import SVC\n",
    "from sklearn.linear_model import LinearRegression\n",
    "from imblearn.over_sampling import SMOTE\n",
    "from sklearn.model_selection import KFold\n",
    "from sklearn.neighbors import KNeighborsClassifier\n",
    "from sklearn.decomposition import IncrementalPCA"
   ]
  },
  {
   "cell_type": "markdown",
   "metadata": {},
   "source": [
    "### Model 1 : Logistic Regression"
   ]
  },
  {
   "cell_type": "code",
   "execution_count": 20,
   "metadata": {},
   "outputs": [],
   "source": [
    "#train test split and over sampling\n",
    "X = telkom_df.drop(['churn'],axis=1)\n",
    "y = telkom_df['churn']\n",
    "\n",
    "X_train, X_test, y_train, y_test = train_test_split(X,y, train_size=0.7,test_size=0.3,random_state=100)\n",
    "\n",
    "scaler = StandardScaler()\n",
    "X_train = scaler.fit_transform(X_train)\n",
    "X_test = scaler.transform(X_test)\n"
   ]
  },
  {
   "cell_type": "code",
   "execution_count": 22,
   "metadata": {},
   "outputs": [],
   "source": [
    "#scaling\n",
    "Scaled_Xtrain = StandardScaler().fit_transform(X_train)"
   ]
  },
  {
   "cell_type": "code",
   "execution_count": 23,
   "metadata": {},
   "outputs": [
    {
     "data": {
      "text/plain": [
       "(20196, 154)"
      ]
     },
     "execution_count": 23,
     "metadata": {},
     "output_type": "execute_result"
    }
   ],
   "source": [
    "# Representing LinearRegression as lr(Creating LinearRegression Object)\n",
    "lr = LinearRegression()\n",
    "\n",
    "# Fit the model using lr.fit()\n",
    "lr.fit(Scaled_Xtrain, y_train)\n",
    "X_train.shape"
   ]
  },
  {
   "cell_type": "code",
   "execution_count": 24,
   "metadata": {},
   "outputs": [],
   "source": [
    "# performing over sampling\n",
    "Smo = SMOTE(random_state=101)\n",
    "X_train_res, y_train_res = Smo.fit_sample(X_train,y_train)"
   ]
  },
  {
   "cell_type": "code",
   "execution_count": 25,
   "metadata": {},
   "outputs": [],
   "source": [
    "#Predicting & Stats Function\n",
    "\n",
    "def pred(model_object,predictors,compare):\n",
    "    \"\"\"1.model_object = model name\n",
    "       2.predictors = data to be predicted\n",
    "       3.compare = y_train\"\"\"\n",
    "    predicted = model_object.predict(predictors)\n",
    "    # Determine the false positive and true positive rates\n",
    "    cm = pd.crosstab(compare,predicted)\n",
    "    TN = cm.iloc[0,0]\n",
    "    FN = cm.iloc[1,0]\n",
    "    TP = cm.iloc[1,1]\n",
    "    FP = cm.iloc[0,1]\n",
    "    print(\"CONFUSION MATRIX ------->> \")\n",
    "    print(cm)\n",
    "    print()\n",
    "    \n",
    "    ##check accuracy of model\n",
    "    print('Classification paradox :------->>')\n",
    "    print('Accuracy :- ', round(((TP+TN)*100)/(TP+TN+FP+FN),2))\n",
    "    print()\n",
    "    print('Specificity //  True Negative Rate :- ',round((TN*100)/(TN+FP),2))\n",
    "    print()\n",
    "    print('Sensivity // True Positive Rate // Recall :- ',round((TP*100)/(FN+TP),2))\n",
    "    print()\n",
    "    print('False Negative Rate :- ',round((FN*100)/(FN+TP),2))\n",
    "    print()\n",
    "    print('False Postive Rate :- ',round((FP*100)/(FP+TN),2))\n",
    "    print()\n",
    "    print(classification_report(compare,predicted))"
   ]
  },
  {
   "cell_type": "code",
   "execution_count": 26,
   "metadata": {},
   "outputs": [
    {
     "name": "stdout",
     "output_type": "stream",
     "text": [
      "CONFUSION MATRIX ------->> \n",
      "col_0     0     1\n",
      "churn            \n",
      "0      6886  1218\n",
      "1        87   465\n",
      "\n",
      "Classification paradox :------->>\n",
      "Accuracy :-  84.92\n",
      "\n",
      "Specificity //  True Negative Rate :-  84.97\n",
      "\n",
      "Sensivity // True Positive Rate // Recall :-  84.24\n",
      "\n",
      "False Negative Rate :-  15.76\n",
      "\n",
      "False Postive Rate :-  15.03\n",
      "\n",
      "              precision    recall  f1-score   support\n",
      "\n",
      "           0       0.99      0.85      0.91      8104\n",
      "           1       0.28      0.84      0.42       552\n",
      "\n",
      "    accuracy                           0.85      8656\n",
      "   macro avg       0.63      0.85      0.66      8656\n",
      "weighted avg       0.94      0.85      0.88      8656\n",
      "\n"
     ]
    }
   ],
   "source": [
    "#logistic without binaries\n",
    "logit_model = LogisticRegression(random_state=101).fit(X_train_res,y_train_res)\n",
    "\n",
    "#Model Score on Valdation Data Set\n",
    "pred(logit_model,X_test,y_test)"
   ]
  },
  {
   "cell_type": "markdown",
   "metadata": {},
   "source": [
    "### Model 2 : RFE with Logistic Regression."
   ]
  },
  {
   "cell_type": "code",
   "execution_count": 27,
   "metadata": {},
   "outputs": [],
   "source": [
    "X = telkom_df.drop(['churn'],axis=1)\n",
    "y = telkom_df['churn']\n",
    "\n",
    "X_train, X_test, y_train, y_test = train_test_split(X,y, train_size=0.7,test_size=0.3,random_state=100)\n"
   ]
  },
  {
   "cell_type": "code",
   "execution_count": 28,
   "metadata": {},
   "outputs": [],
   "source": [
    "#Getting numeric colums \n",
    "numeric_col = telkom_df.columns\n",
    "category_columns = ['fb_user_6','fb_user_7','fb_user_8','churn','date_of_last_rech_6','date_of_last_rech_7','date_of_last_rech_8']\n",
    "numeric_col = list(set(numeric_col) - set(category_columns))\n"
   ]
  },
  {
   "cell_type": "code",
   "execution_count": 29,
   "metadata": {},
   "outputs": [],
   "source": [
    "#feature Scaling\n",
    "X_train[numeric_col] = StandardScaler().fit_transform(X_train[numeric_col])"
   ]
  },
  {
   "cell_type": "code",
   "execution_count": 30,
   "metadata": {},
   "outputs": [
    {
     "name": "stderr",
     "output_type": "stream",
     "text": [
      "C:\\Asheer\\anaconda\\lib\\site-packages\\patsy\\constraint.py:13: DeprecationWarning: Using or importing the ABCs from 'collections' instead of from 'collections.abc' is deprecated, and in 3.8 it will stop working\n",
      "  from collections import Mapping\n"
     ]
    }
   ],
   "source": [
    "#model building  \n",
    "#Running RFE (Recursice feature elimination) to get major kpi and than running statsmodel to get statistics.\n",
    "from sklearn.feature_selection import RFE\n",
    "import statsmodels.api as sm\n",
    "from sklearn import metrics"
   ]
  },
  {
   "cell_type": "code",
   "execution_count": 31,
   "metadata": {},
   "outputs": [
    {
     "name": "stdout",
     "output_type": "stream",
     "text": [
      "when number of major KPI is :  5\n",
      "Index(['std_og_t2m_mou_8', 'std_og_mou_8', 'total_og_mou_8', 'total_ic_mou_8',\n",
      "       'fb_user_8'],\n",
      "      dtype='object')\n",
      "Summary :\n",
      "                 Generalized Linear Model Regression Results                  \n",
      "==============================================================================\n",
      "Dep. Variable:                  churn   No. Observations:                20196\n",
      "Model:                            GLM   Df Residuals:                    20190\n",
      "Model Family:                Binomial   Df Model:                            5\n",
      "Link Function:                  logit   Scale:                          1.0000\n",
      "Method:                          IRLS   Log-Likelihood:                -3316.4\n",
      "Date:                Sun, 23 Feb 2020   Deviance:                       6632.8\n",
      "Time:                        15:35:01   Pearson chi2:                 1.94e+09\n",
      "No. Iterations:                     9                                         \n",
      "Covariance Type:            nonrobust                                         \n",
      "====================================================================================\n",
      "                       coef    std err          z      P>|z|      [0.025      0.975]\n",
      "------------------------------------------------------------------------------------\n",
      "const               -3.8230      0.085    -44.971      0.000      -3.990      -3.656\n",
      "std_og_t2m_mou_8     0.0009      0.070      0.013      0.989      -0.136       0.138\n",
      "std_og_mou_8         2.5801      0.168     15.365      0.000       2.251       2.909\n",
      "total_og_mou_8      -3.4544      0.179    -19.327      0.000      -3.805      -3.104\n",
      "total_ic_mou_8      -1.8310      0.154    -11.907      0.000      -2.132      -1.530\n",
      "fb_user_8           -1.8462      0.088    -20.980      0.000      -2.019      -1.674\n",
      "====================================================================================\n",
      "confusion matrix :\n",
      "[[18882    85]\n",
      " [ 1011   218]]\n",
      "accuracy score :\n",
      "0.9457318280847693\n",
      "when number of major KPI is :  10\n",
      "Index(['std_og_t2t_mou_8', 'std_og_t2m_mou_8', 'std_og_mou_8',\n",
      "       'total_og_mou_8', 'std_ic_t2f_mou_8', 'total_ic_mou_7',\n",
      "       'total_ic_mou_8', 'spl_ic_mou_8', 'fb_user_8', 'sep_vbc_3g'],\n",
      "      dtype='object')\n",
      "Summary :\n",
      "                 Generalized Linear Model Regression Results                  \n",
      "==============================================================================\n",
      "Dep. Variable:                  churn   No. Observations:                20196\n",
      "Model:                            GLM   Df Residuals:                    20185\n",
      "Model Family:                Binomial   Df Model:                           10\n",
      "Link Function:                  logit   Scale:                          1.0000\n",
      "Method:                          IRLS   Log-Likelihood:                -3190.4\n",
      "Date:                Sun, 23 Feb 2020   Deviance:                       6380.8\n",
      "Time:                        15:35:42   Pearson chi2:                 7.53e+07\n",
      "No. Iterations:                     9                                         \n",
      "Covariance Type:            nonrobust                                         \n",
      "====================================================================================\n",
      "                       coef    std err          z      P>|z|      [0.025      0.975]\n",
      "------------------------------------------------------------------------------------\n",
      "const               -4.1317      0.099    -41.634      0.000      -4.326      -3.937\n",
      "std_og_t2t_mou_8    -0.7262      1.870     -0.388      0.698      -4.391       2.938\n",
      "std_og_t2m_mou_8    -0.7007      1.907     -0.367      0.713      -4.439       3.037\n",
      "std_og_mou_8         3.5839      2.825      1.269      0.205      -1.952       9.120\n",
      "total_og_mou_8      -3.2787      0.180    -18.265      0.000      -3.631      -2.927\n",
      "std_ic_t2f_mou_8    -0.9557      0.365     -2.618      0.009      -1.671      -0.240\n",
      "total_ic_mou_7       0.7820      0.070     11.170      0.000       0.645       0.919\n",
      "total_ic_mou_8      -2.5060      0.176    -14.256      0.000      -2.851      -2.161\n",
      "spl_ic_mou_8        -0.5936      0.103     -5.758      0.000      -0.796      -0.392\n",
      "fb_user_8           -1.6914      0.089    -18.953      0.000      -1.866      -1.517\n",
      "sep_vbc_3g          -0.8080      0.236     -3.418      0.001      -1.271      -0.345\n",
      "====================================================================================\n",
      "confusion matrix :\n",
      "[[18861   106]\n",
      " [  992   237]]\n",
      "accuracy score :\n",
      "0.9456327985739751\n",
      "when number of major KPI is :  15\n",
      "Index(['std_og_t2t_mou_8', 'std_og_t2m_mou_8', 'std_og_mou_8',\n",
      "       'total_og_mou_7', 'total_og_mou_8', 'loc_ic_t2t_mou_8',\n",
      "       'std_ic_t2m_mou_8', 'std_ic_t2f_mou_8', 'total_ic_mou_7',\n",
      "       'total_ic_mou_8', 'spl_ic_mou_8', 'isd_ic_mou_8', 'fb_user_8',\n",
      "       'aug_vbc_3g', 'sep_vbc_3g'],\n",
      "      dtype='object')\n",
      "Summary :\n",
      "                 Generalized Linear Model Regression Results                  \n",
      "==============================================================================\n",
      "Dep. Variable:                  churn   No. Observations:                20196\n",
      "Model:                            GLM   Df Residuals:                    20180\n",
      "Model Family:                Binomial   Df Model:                           15\n",
      "Link Function:                  logit   Scale:                          1.0000\n",
      "Method:                          IRLS   Log-Likelihood:                -3116.9\n",
      "Date:                Sun, 23 Feb 2020   Deviance:                       6233.9\n",
      "Time:                        15:36:23   Pearson chi2:                 3.69e+07\n",
      "No. Iterations:                     9                                         \n",
      "Covariance Type:            nonrobust                                         \n",
      "====================================================================================\n",
      "                       coef    std err          z      P>|z|      [0.025      0.975]\n",
      "------------------------------------------------------------------------------------\n",
      "const               -4.3076      0.106    -40.693      0.000      -4.515      -4.100\n",
      "std_og_t2t_mou_8    -0.6615      1.832     -0.361      0.718      -4.252       2.929\n",
      "std_og_t2m_mou_8    -0.6919      1.869     -0.370      0.711      -4.355       2.971\n",
      "std_og_mou_8         2.7971      2.776      1.007      0.314      -2.645       8.239\n",
      "total_og_mou_7       0.3766      0.042      8.914      0.000       0.294       0.459\n",
      "total_og_mou_8      -2.7991      0.235    -11.920      0.000      -3.259      -2.339\n",
      "loc_ic_t2t_mou_8     0.6785      0.202      3.360      0.001       0.283       1.074\n",
      "std_ic_t2m_mou_8     0.6949      0.130      5.365      0.000       0.441       0.949\n",
      "std_ic_t2f_mou_8    -0.8045      0.355     -2.267      0.023      -1.500      -0.109\n",
      "total_ic_mou_7       0.5817      0.069      8.452      0.000       0.447       0.717\n",
      "total_ic_mou_8      -3.2975      0.280    -11.783      0.000      -3.846      -2.749\n",
      "spl_ic_mou_8        -0.5804      0.102     -5.686      0.000      -0.780      -0.380\n",
      "isd_ic_mou_8         0.5168      0.075      6.902      0.000       0.370       0.664\n",
      "fb_user_8           -1.3368      0.097    -13.774      0.000      -1.527      -1.147\n",
      "aug_vbc_3g          -0.3788      0.094     -4.020      0.000      -0.563      -0.194\n",
      "sep_vbc_3g          -0.6498      0.221     -2.940      0.003      -1.083      -0.217\n",
      "====================================================================================\n",
      "confusion matrix :\n",
      "[[18830   137]\n",
      " [  969   260]]\n",
      "accuracy score :\n",
      "0.9452366805307981\n"
     ]
    }
   ],
   "source": [
    "nokpi = [5,10,15]\n",
    "\n",
    "#After running RFE we get to know that accuracy is almost same for number of kpi 5,10,15\n",
    "# therefore choosing 10 which gives good accuracy.\n",
    "for i in nokpi:\n",
    "    print('when number of major KPI is : ', i)\n",
    "    logreg = LogisticRegression()\n",
    "    rfe = RFE(logreg,i)\n",
    "    rfe = rfe.fit(X_train, y_train)\n",
    "    col = X_train.columns[rfe.support_]\n",
    "    print(col)\n",
    "    X_train_sm = sm.add_constant(X_train[col])\n",
    "    model = sm.GLM(y_train,X_train_sm, family = sm.families.Binomial()).fit()\n",
    "    print('Summary :')\n",
    "    print(model.summary())\n",
    "    y_train_pred = model.predict(X_train_sm)\n",
    "    y_train_pred[:10]\n",
    "\n",
    "    y_train_pred_final = pd.DataFrame({'Churn':y_train.values, 'Churn_Prob':y_train_pred})\n",
    "    y_train_pred_final['CustID'] = y_train.index\n",
    "    y_train_pred_final.head()\n",
    "\n",
    "    y_train_pred_final['predicted'] = y_train_pred_final.Churn_Prob.map(lambda x: 1 if x > 0.5 else 0)\n",
    "    y_train_pred_final.head()\n",
    "    confusion = metrics.confusion_matrix(y_train_pred_final.Churn, y_train_pred_final.predicted )\n",
    "    print('confusion matrix :')\n",
    "    print(confusion)\n",
    "    print('accuracy score :')\n",
    "    print(metrics.accuracy_score(y_train_pred_final.Churn, y_train_pred_final.predicted))"
   ]
  },
  {
   "cell_type": "code",
   "execution_count": 32,
   "metadata": {},
   "outputs": [
    {
     "name": "stdout",
     "output_type": "stream",
     "text": [
      "Index(['std_og_t2m_mou_8', 'std_og_mou_8', 'total_og_mou_8', 'total_ic_mou_8',\n",
      "       'fb_user_8'],\n",
      "      dtype='object')\n",
      "Summary :\n",
      "                 Generalized Linear Model Regression Results                  \n",
      "==============================================================================\n",
      "Dep. Variable:                  churn   No. Observations:                20196\n",
      "Model:                            GLM   Df Residuals:                    20190\n",
      "Model Family:                Binomial   Df Model:                            5\n",
      "Link Function:                  logit   Scale:                          1.0000\n",
      "Method:                          IRLS   Log-Likelihood:                -3316.4\n",
      "Date:                Sun, 23 Feb 2020   Deviance:                       6632.8\n",
      "Time:                        15:37:05   Pearson chi2:                 1.94e+09\n",
      "No. Iterations:                     9                                         \n",
      "Covariance Type:            nonrobust                                         \n",
      "====================================================================================\n",
      "                       coef    std err          z      P>|z|      [0.025      0.975]\n",
      "------------------------------------------------------------------------------------\n",
      "const               -3.8230      0.085    -44.971      0.000      -3.990      -3.656\n",
      "std_og_t2m_mou_8     0.0009      0.070      0.013      0.989      -0.136       0.138\n",
      "std_og_mou_8         2.5801      0.168     15.365      0.000       2.251       2.909\n",
      "total_og_mou_8      -3.4544      0.179    -19.327      0.000      -3.805      -3.104\n",
      "total_ic_mou_8      -1.8310      0.154    -11.907      0.000      -2.132      -1.530\n",
      "fb_user_8           -1.8462      0.088    -20.980      0.000      -2.019      -1.674\n",
      "====================================================================================\n",
      "confusion matrix :\n",
      "[[18882    85]\n",
      " [ 1011   218]]\n",
      "accuracy score :\n",
      "0.9457318280847693\n"
     ]
    }
   ],
   "source": [
    "#Accuracy is almost same for KPI number 5,10,15 therefore picking lowest that is 5\n",
    "logreg = LogisticRegression()\n",
    "rfe = RFE(logreg,5)\n",
    "rfe = rfe.fit(X_train, y_train)\n",
    "col = X_train.columns[rfe.support_]\n",
    "print(col)\n",
    "X_train_sm = sm.add_constant(X_train[col])\n",
    "model_rfe = sm.GLM(y_train,X_train_sm, family = sm.families.Binomial()).fit()\n",
    "print('Summary :')\n",
    "print(model_rfe.summary())\n",
    "y_train_pred = model_rfe.predict(X_train_sm)\n",
    "y_train_pred[:10]\n",
    "\n",
    "y_train_pred_final = pd.DataFrame({'Churn':y_train.values, 'Churn_Prob':y_train_pred})\n",
    "y_train_pred_final['CustID'] = y_train.index\n",
    "y_train_pred_final.head()\n",
    "\n",
    "y_train_pred_final['predicted'] = y_train_pred_final.Churn_Prob.map(lambda x: 1 if x > 0.5 else 0)\n",
    "y_train_pred_final.head()\n",
    "confusion = metrics.confusion_matrix(y_train_pred_final.Churn, y_train_pred_final.predicted )\n",
    "print('confusion matrix :')\n",
    "print(confusion)\n",
    "print('accuracy score :')\n",
    "print(metrics.accuracy_score(y_train_pred_final.Churn, y_train_pred_final.predicted))\n",
    "   "
   ]
  },
  {
   "cell_type": "code",
   "execution_count": 33,
   "metadata": {},
   "outputs": [],
   "source": [
    "#get variance inflation factor\n",
    "from statsmodels.stats.outliers_influence import variance_inflation_factor\n",
    "def printVIF():\n",
    "    vif = pd.DataFrame()\n",
    "    vif['Features'] = X_train[col].columns\n",
    "    vif['VIF'] = [variance_inflation_factor(X_train[col].values, i) for i in range(X_train[col].shape[1])]\n",
    "    vif['VIF'] = round(vif['VIF'], 2)\n",
    "    vif = vif.sort_values(by = \"VIF\", ascending = False)"
   ]
  },
  {
   "cell_type": "code",
   "execution_count": 34,
   "metadata": {},
   "outputs": [],
   "source": [
    "#All the VIF are acceptable\n",
    "printVIF()"
   ]
  },
  {
   "cell_type": "code",
   "execution_count": 35,
   "metadata": {},
   "outputs": [
    {
     "data": {
      "image/png": "[encoded data removed]",
      "text/plain": [
       "<Figure size 360x360 with 1 Axes>"
      ]
     },
     "metadata": {
      "needs_background": "light"
     },
     "output_type": "display_data"
    }
   ],
   "source": [
    "#drawing roc curve\n",
    "def draw_roc( actual, probs ):\n",
    "    fpr, tpr, thresholds = metrics.roc_curve( actual, probs,\n",
    "                                              drop_intermediate = False )\n",
    "    auc_score = metrics.roc_auc_score( actual, probs )\n",
    "    plt.figure(figsize=(5, 5))\n",
    "    plt.plot( fpr, tpr, label='ROC curve (area = %0.2f)' % auc_score )\n",
    "    plt.plot([0, 1], [0, 1], 'k--')\n",
    "    plt.xlim([0.0, 1.0])\n",
    "    plt.ylim([0.0, 1.05])\n",
    "    plt.xlabel('False Positive Rate or [1 - True Negative Rate]')\n",
    "    plt.ylabel('True Positive Rate')\n",
    "    plt.title('Receiver operating characteristic example')\n",
    "    plt.legend(loc=\"lower right\")\n",
    "    plt.show()\n",
    "\n",
    "    return None\n",
    "\n",
    "fpr, tpr, thresholds = metrics.roc_curve( y_train_pred_final.Churn, y_train_pred_final.Churn_Prob, drop_intermediate = False )\n",
    "draw_roc(y_train_pred_final.Churn, y_train_pred_final.Churn_Prob)\n",
    "\n",
    "# The area under curve of the ROC is large therefore our model is acceptable"
   ]
  },
  {
   "cell_type": "code",
   "execution_count": 36,
   "metadata": {},
   "outputs": [
    {
     "data": {
      "text/html": [
       "<div>\n",
       "<style scoped>\n",
       "    .dataframe tbody tr th:only-of-type {\n",
       "        vertical-align: middle;\n",
       "    }\n",
       "\n",
       "    .dataframe tbody tr th {\n",
       "        vertical-align: top;\n",
       "    }\n",
       "\n",
       "    .dataframe thead th {\n",
       "        text-align: right;\n",
       "    }\n",
       "</style>\n",
       "<table border=\"1\" class=\"dataframe\">\n",
       "  <thead>\n",
       "    <tr style=\"text-align: right;\">\n",
       "      <th></th>\n",
       "      <th>Churn</th>\n",
       "      <th>Churn_Prob</th>\n",
       "      <th>CustID</th>\n",
       "      <th>predicted</th>\n",
       "      <th>0.0</th>\n",
       "      <th>0.1</th>\n",
       "      <th>0.2</th>\n",
       "      <th>0.3</th>\n",
       "      <th>0.4</th>\n",
       "      <th>0.5</th>\n",
       "      <th>0.6</th>\n",
       "      <th>0.7</th>\n",
       "      <th>0.8</th>\n",
       "      <th>0.9</th>\n",
       "    </tr>\n",
       "  </thead>\n",
       "  <tbody>\n",
       "    <tr>\n",
       "      <th>36987</th>\n",
       "      <td>1</td>\n",
       "      <td>0.655388</td>\n",
       "      <td>36987</td>\n",
       "      <td>1</td>\n",
       "      <td>1</td>\n",
       "      <td>1</td>\n",
       "      <td>1</td>\n",
       "      <td>1</td>\n",
       "      <td>1</td>\n",
       "      <td>1</td>\n",
       "      <td>1</td>\n",
       "      <td>0</td>\n",
       "      <td>0</td>\n",
       "      <td>0</td>\n",
       "    </tr>\n",
       "    <tr>\n",
       "      <th>60192</th>\n",
       "      <td>0</td>\n",
       "      <td>0.064727</td>\n",
       "      <td>60192</td>\n",
       "      <td>0</td>\n",
       "      <td>1</td>\n",
       "      <td>0</td>\n",
       "      <td>0</td>\n",
       "      <td>0</td>\n",
       "      <td>0</td>\n",
       "      <td>0</td>\n",
       "      <td>0</td>\n",
       "      <td>0</td>\n",
       "      <td>0</td>\n",
       "      <td>0</td>\n",
       "    </tr>\n",
       "    <tr>\n",
       "      <th>68798</th>\n",
       "      <td>0</td>\n",
       "      <td>0.088139</td>\n",
       "      <td>68798</td>\n",
       "      <td>0</td>\n",
       "      <td>1</td>\n",
       "      <td>0</td>\n",
       "      <td>0</td>\n",
       "      <td>0</td>\n",
       "      <td>0</td>\n",
       "      <td>0</td>\n",
       "      <td>0</td>\n",
       "      <td>0</td>\n",
       "      <td>0</td>\n",
       "      <td>0</td>\n",
       "    </tr>\n",
       "    <tr>\n",
       "      <th>78113</th>\n",
       "      <td>0</td>\n",
       "      <td>0.094811</td>\n",
       "      <td>78113</td>\n",
       "      <td>0</td>\n",
       "      <td>1</td>\n",
       "      <td>0</td>\n",
       "      <td>0</td>\n",
       "      <td>0</td>\n",
       "      <td>0</td>\n",
       "      <td>0</td>\n",
       "      <td>0</td>\n",
       "      <td>0</td>\n",
       "      <td>0</td>\n",
       "      <td>0</td>\n",
       "    </tr>\n",
       "    <tr>\n",
       "      <th>46003</th>\n",
       "      <td>0</td>\n",
       "      <td>0.016462</td>\n",
       "      <td>46003</td>\n",
       "      <td>0</td>\n",
       "      <td>1</td>\n",
       "      <td>0</td>\n",
       "      <td>0</td>\n",
       "      <td>0</td>\n",
       "      <td>0</td>\n",
       "      <td>0</td>\n",
       "      <td>0</td>\n",
       "      <td>0</td>\n",
       "      <td>0</td>\n",
       "      <td>0</td>\n",
       "    </tr>\n",
       "  </tbody>\n",
       "</table>\n",
       "</div>"
      ],
      "text/plain": [
       "       Churn  Churn_Prob  CustID  predicted  0.0  0.1  0.2  0.3  0.4  0.5  \\\n",
       "36987      1    0.655388   36987          1    1    1    1    1    1    1   \n",
       "60192      0    0.064727   60192          0    1    0    0    0    0    0   \n",
       "68798      0    0.088139   68798          0    1    0    0    0    0    0   \n",
       "78113      0    0.094811   78113          0    1    0    0    0    0    0   \n",
       "46003      0    0.016462   46003          0    1    0    0    0    0    0   \n",
       "\n",
       "       0.6  0.7  0.8  0.9  \n",
       "36987    1    0    0    0  \n",
       "60192    0    0    0    0  \n",
       "68798    0    0    0    0  \n",
       "78113    0    0    0    0  \n",
       "46003    0    0    0    0  "
      ]
     },
     "execution_count": 36,
     "metadata": {},
     "output_type": "execute_result"
    }
   ],
   "source": [
    "# Let's create columns with different probability cutoffs \n",
    "numbers = [float(x)/10 for x in range(10)]\n",
    "for i in numbers:\n",
    "    y_train_pred_final[i]= y_train_pred_final.Churn_Prob.map(lambda x: 1 if x > i else 0)\n",
    "y_train_pred_final.head()\n"
   ]
  },
  {
   "cell_type": "code",
   "execution_count": 37,
   "metadata": {},
   "outputs": [
    {
     "name": "stdout",
     "output_type": "stream",
     "text": [
      "     prob  accuracy     sensi     speci\n",
      "0.0   0.0  0.060854  1.000000  0.000000\n",
      "0.1   0.1  0.847247  0.736371  0.854431\n",
      "0.2   0.2  0.922262  0.623271  0.941635\n",
      "0.3   0.3  0.949000  0.460537  0.980651\n",
      "0.4   0.4  0.945732  0.177380  0.995519\n",
      "0.5   0.5  0.945732  0.177380  0.995519\n",
      "0.6   0.6  0.945732  0.177380  0.995519\n",
      "0.7   0.7  0.939146  0.000000  1.000000\n",
      "0.8   0.8  0.939146  0.000000  1.000000\n",
      "0.9   0.9  0.939146  0.000000  1.000000\n"
     ]
    },
    {
     "data": {
      "image/png": "[encoded data removed]",
      "text/plain": [
       "<Figure size 432x288 with 1 Axes>"
      ]
     },
     "metadata": {
      "needs_background": "light"
     },
     "output_type": "display_data"
    }
   ],
   "source": [
    "# Now let's calculate accuracy sensitivity and specificity for various probability cutoffs.\n",
    "cutoff_df = pd.DataFrame( columns = ['prob','accuracy','sensi','speci'])\n",
    "from sklearn.metrics import confusion_matrix\n",
    "\n",
    "num = [0.0,0.1,0.2,0.3,0.4,0.5,0.6,0.7,0.8,0.9]\n",
    "for i in num:\n",
    "    cm1 = metrics.confusion_matrix(y_train_pred_final.Churn, y_train_pred_final[i] )\n",
    "    total1=sum(sum(cm1))\n",
    "    accuracy = (cm1[0,0]+cm1[1,1])/total1\n",
    "    \n",
    "    speci = cm1[0,0]/(cm1[0,0]+cm1[0,1])\n",
    "    sensi = cm1[1,1]/(cm1[1,0]+cm1[1,1])\n",
    "    cutoff_df.loc[i] =[ i ,accuracy,sensi,speci]\n",
    "print(cutoff_df)\n",
    "# Let's plot accuracy sensitivity and specificity for various probabilities.\n",
    "cutoff_df.plot.line(x='prob', y=['accuracy','sensi','speci'])\n",
    "plt.show()\n",
    "\n",
    "#picking ideal cutoff as 0.1 as shown in below graph"
   ]
  },
  {
   "cell_type": "code",
   "execution_count": 38,
   "metadata": {},
   "outputs": [
    {
     "name": "stdout",
     "output_type": "stream",
     "text": [
      "final Accuracy : 0.8472469795999208\n",
      "Sensitivity :  0.7363710333604556\n",
      "Specificity :  0.8544313808193178\n",
      "False postive rate :  0.14556861918068223\n",
      "Positive predictive value :  0.24686306601200217\n",
      "Negative predictive value :  0.980399274047187\n"
     ]
    }
   ],
   "source": [
    "y_train_pred_final['final_predicted'] = y_train_pred_final.Churn_Prob.map( lambda x: 1 if x > 0.1 else 0)\n",
    "print('final Accuracy :',metrics.accuracy_score(y_train_pred_final.Churn, y_train_pred_final.final_predicted))\n",
    "\n",
    "confusion = metrics.confusion_matrix(y_train_pred_final.Churn, y_train_pred_final.final_predicted )\n",
    "\n",
    "#sensitivity , specificity , False positive rate , positive predictive value, negative predictive value\n",
    "TP = confusion[1,1] # true positive \n",
    "TN = confusion[0,0] # true negatives\n",
    "FP = confusion[0,1] # false positives\n",
    "FN = confusion[1,0] # false negatives\n",
    "\n",
    "print('Sensitivity : ',TP / float(TP+FN))\n",
    "print('Specificity : ',TN / float(TN+FP))\n",
    "print('False postive rate : ',FP/ float(TN+FP))\n",
    "print('Positive predictive value : ',TP / float(TP+FP))\n",
    "print('Negative predictive value : ',TN / float(TN+ FN))"
   ]
  },
  {
   "cell_type": "markdown",
   "metadata": {},
   "source": [
    "### Model 3 : Random Forest Classifier"
   ]
  },
  {
   "cell_type": "code",
   "execution_count": 39,
   "metadata": {},
   "outputs": [
    {
     "name": "stdout",
     "output_type": "stream",
     "text": [
      "CONFUSION MATRIX ------->> \n",
      "col_0     0    1\n",
      "churn           \n",
      "0      7848  256\n",
      "1       211  341\n",
      "\n",
      "Classification paradox :------->>\n",
      "Accuracy :-  94.6\n",
      "\n",
      "Specificity //  True Negative Rate :-  96.84\n",
      "\n",
      "Sensivity // True Positive Rate // Recall :-  61.78\n",
      "\n",
      "False Negative Rate :-  38.22\n",
      "\n",
      "False Postive Rate :-  3.16\n",
      "\n",
      "              precision    recall  f1-score   support\n",
      "\n",
      "           0       0.97      0.97      0.97      8104\n",
      "           1       0.57      0.62      0.59       552\n",
      "\n",
      "    accuracy                           0.95      8656\n",
      "   macro avg       0.77      0.79      0.78      8656\n",
      "weighted avg       0.95      0.95      0.95      8656\n",
      "\n"
     ]
    }
   ],
   "source": [
    "#Random Forest Model\n",
    "X = telkom_df.drop('churn',axis = 1)\n",
    "y = telkom_df.churn\n",
    "X_train, X_test, y_train, y_test = train_test_split(X, y, train_size=0.7, test_size=0.3, random_state=100)\n",
    "\n",
    "Smo = SMOTE(random_state=101)\n",
    "X_train_res, y_train_res = Smo.fit_sample(X_train,y_train)\n",
    "\n",
    "rf_model = RandomForestClassifier(n_estimators=100,random_state=101).fit(X_train_res,y_train_res)\n",
    "\n",
    "#Model Score on Valdation Data Set\n",
    "pred(rf_model,X_test,y_test)"
   ]
  },
  {
   "cell_type": "code",
   "execution_count": 40,
   "metadata": {},
   "outputs": [
    {
     "name": "stdout",
     "output_type": "stream",
     "text": [
      "CONFUSION MATRIX ------->> \n",
      "col_0     0     1\n",
      "churn            \n",
      "0      6813  1291\n",
      "1       173   379\n",
      "\n",
      "Classification paradox :------->>\n",
      "Accuracy :-  83.09\n",
      "\n",
      "Specificity //  True Negative Rate :-  84.07\n",
      "\n",
      "Sensivity // True Positive Rate // Recall :-  68.66\n",
      "\n",
      "False Negative Rate :-  31.34\n",
      "\n",
      "False Postive Rate :-  15.93\n",
      "\n",
      "              precision    recall  f1-score   support\n",
      "\n",
      "           0       0.98      0.84      0.90      8104\n",
      "           1       0.23      0.69      0.34       552\n",
      "\n",
      "    accuracy                           0.83      8656\n",
      "   macro avg       0.60      0.76      0.62      8656\n",
      "weighted avg       0.93      0.83      0.87      8656\n",
      "\n"
     ]
    }
   ],
   "source": [
    "#KNN Model Development\n",
    "KNN_Model = KNeighborsClassifier(n_neighbors=5).fit(X_train_res,y_train_res)\n",
    "\n",
    "#Model Score on Valdation Data Set\n",
    "pred(KNN_Model,X_test,y_test)"
   ]
  },
  {
   "cell_type": "code",
   "execution_count": 41,
   "metadata": {},
   "outputs": [
    {
     "data": {
      "text/plain": [
       "RandomForestClassifier(bootstrap=True, ccp_alpha=0.0, class_weight=None,\n",
       "                       criterion='gini', max_depth=None, max_features='auto',\n",
       "                       max_leaf_nodes=None, max_samples=None,\n",
       "                       min_impurity_decrease=0.0, min_impurity_split=None,\n",
       "                       min_samples_leaf=1, min_samples_split=2,\n",
       "                       min_weight_fraction_leaf=0.0, n_estimators=500,\n",
       "                       n_jobs=-1, oob_score=False, random_state=101, verbose=0,\n",
       "                       warm_start=False)"
      ]
     },
     "execution_count": 41,
     "metadata": {},
     "output_type": "execute_result"
    }
   ],
   "source": [
    "# Training Final Model With Optimum Parameters\n",
    "final_Model = RandomForestClassifier(random_state=101, n_estimators = 500,n_jobs=-1)\n",
    "final_Model.fit(X_train_res,y_train_res)"
   ]
  },
  {
   "cell_type": "code",
   "execution_count": 42,
   "metadata": {},
   "outputs": [
    {
     "data": {
      "image/png": "[encoded data removed]",
      "text/plain": [
       "<Figure size 5760x8640 with 1 Axes>"
      ]
     },
     "metadata": {
      "needs_background": "light"
     },
     "output_type": "display_data"
    }
   ],
   "source": [
    "#Calculating feature importances\n",
    "importances = final_Model.feature_importances_\n",
    "# Sort feature importances in descending order\n",
    "indices = np.argsort(importances)[::1]\n",
    "\n",
    "# Rearrange feature names so they match the sorted feature importances\n",
    "names = [telkom_df.columns[i] for i in indices]\n",
    "\n",
    "# Creating plot\n",
    "fig = plt.figure(figsize=(80,120))\n",
    "plt.title(\"Feature Importance\")\n",
    "plt.barh(range(X.shape[1]),importances[indices],align = 'center')\n",
    "plt.yticks(range(X.shape[1]), names)\n",
    "plt.show()"
   ]
  },
  {
   "cell_type": "code",
   "execution_count": 43,
   "metadata": {},
   "outputs": [
    {
     "data": {
      "text/plain": [
       "RandomForestClassifier(bootstrap=True, ccp_alpha=0.0, class_weight=None,\n",
       "                       criterion='gini', max_depth=None, max_features='auto',\n",
       "                       max_leaf_nodes=None, max_samples=None,\n",
       "                       min_impurity_decrease=0.0, min_impurity_split=None,\n",
       "                       min_samples_leaf=1, min_samples_split=2,\n",
       "                       min_weight_fraction_leaf=0.0, n_estimators=500,\n",
       "                       n_jobs=-1, oob_score=False, random_state=101, verbose=0,\n",
       "                       warm_start=False)"
      ]
     },
     "execution_count": 43,
     "metadata": {},
     "output_type": "execute_result"
    }
   ],
   "source": [
    "\n",
    "# Training Final Model With Optimum Parameters\n",
    "final_Model = RandomForestClassifier(random_state=101, n_estimators = 500,n_jobs=-1)\n",
    "final_Model.fit(X_train_res,y_train_res)"
   ]
  },
  {
   "cell_type": "code",
   "execution_count": 44,
   "metadata": {},
   "outputs": [
    {
     "name": "stdout",
     "output_type": "stream",
     "text": [
      "CONFUSION MATRIX ------->> \n",
      "col_0     0    1\n",
      "churn           \n",
      "0      7855  249\n",
      "1       210  342\n",
      "\n",
      "Classification paradox :------->>\n",
      "Accuracy :-  94.7\n",
      "\n",
      "Specificity //  True Negative Rate :-  96.93\n",
      "\n",
      "Sensivity // True Positive Rate // Recall :-  61.96\n",
      "\n",
      "False Negative Rate :-  38.04\n",
      "\n",
      "False Postive Rate :-  3.07\n",
      "\n",
      "              precision    recall  f1-score   support\n",
      "\n",
      "           0       0.97      0.97      0.97      8104\n",
      "           1       0.58      0.62      0.60       552\n",
      "\n",
      "    accuracy                           0.95      8656\n",
      "   macro avg       0.78      0.79      0.79      8656\n",
      "weighted avg       0.95      0.95      0.95      8656\n",
      "\n"
     ]
    }
   ],
   "source": [
    "pred(final_Model,X_test,y_test)"
   ]
  },
  {
   "cell_type": "markdown",
   "metadata": {},
   "source": [
    "### Model 4 : PCA with Logistic Regression"
   ]
  },
  {
   "cell_type": "code",
   "execution_count": 45,
   "metadata": {},
   "outputs": [],
   "source": [
    "training_data, testing_data = train_test_split(telkom_df, train_size=0.7, test_size=0.3)"
   ]
  },
  {
   "cell_type": "code",
   "execution_count": 46,
   "metadata": {},
   "outputs": [],
   "source": [
    "Y_train = training_data[\"churn\"]\n",
    "training_data.pop(\"churn\")\n",
    "X_train = training_data"
   ]
  },
  {
   "cell_type": "code",
   "execution_count": 47,
   "metadata": {},
   "outputs": [
    {
     "data": {
      "text/plain": [
       "PCA(copy=True, iterated_power='auto', n_components=None, random_state=42,\n",
       "    svd_solver='randomized', tol=0.0, whiten=False)"
      ]
     },
     "execution_count": 47,
     "metadata": {},
     "output_type": "execute_result"
    }
   ],
   "source": [
    "# Use PCA\n",
    "pca = PCA(svd_solver=\"randomized\", random_state=42)\n",
    "pca.fit(X_train)"
   ]
  },
  {
   "cell_type": "code",
   "execution_count": 48,
   "metadata": {},
   "outputs": [
    {
     "data": {
      "text/plain": [
       "array([[ 1.13465076e-01,  1.34455180e-01,  1.27739092e-01, ...,\n",
       "         1.08067751e-01,  6.99034752e-05, -5.90224957e-05],\n",
       "       [ 1.19632371e-01,  1.28987935e-01,  1.29040270e-01, ...,\n",
       "         2.29954722e-01,  1.48858894e-05,  9.53583986e-05],\n",
       "       [ 1.06125360e-01,  9.81135836e-02,  1.13574970e-01, ...,\n",
       "         1.06657321e-01, -5.16525307e-05,  4.05920780e-05],\n",
       "       ...,\n",
       "       [-0.00000000e+00, -1.64046471e-18,  2.76200240e-18, ...,\n",
       "         5.32434249e-04, -9.56305205e-18,  2.37371415e-17],\n",
       "       [-0.00000000e+00,  3.08796092e-18,  2.02207480e-18, ...,\n",
       "        -2.81180215e-05, -7.34078917e-17,  1.00618660e-16],\n",
       "       [-0.00000000e+00, -3.30218813e-18, -8.29910827e-18, ...,\n",
       "         7.65878145e-04,  4.09591548e-17,  6.87075645e-17]])"
      ]
     },
     "execution_count": 48,
     "metadata": {},
     "output_type": "execute_result"
    }
   ],
   "source": [
    "pca.components_"
   ]
  },
  {
   "cell_type": "code",
   "execution_count": 49,
   "metadata": {},
   "outputs": [
    {
     "data": {
      "text/plain": [
       "array([2.40745105e-01, 2.10504286e-01, 1.00991849e-01, 6.07795848e-02,\n",
       "       5.45117134e-02, 4.94725247e-02, 4.64812539e-02, 2.83045614e-02,\n",
       "       2.78284542e-02, 2.37225950e-02, 1.82635157e-02, 1.58658778e-02,\n",
       "       1.41915816e-02, 1.06072100e-02, 9.66103807e-03, 8.61983910e-03,\n",
       "       6.88304550e-03, 6.55467868e-03, 5.40621962e-03, 4.46223422e-03,\n",
       "       4.09747805e-03, 3.86281543e-03, 3.81534615e-03, 3.51154932e-03,\n",
       "       3.39202296e-03, 3.15720415e-03, 2.94178575e-03, 2.47809198e-03,\n",
       "       2.39096410e-03, 1.98062685e-03, 1.86724039e-03, 1.45870331e-03,\n",
       "       1.42540432e-03, 1.33262883e-03, 1.24137536e-03, 1.21547663e-03,\n",
       "       1.13132917e-03, 1.09912214e-03, 9.24123784e-04, 8.77715211e-04,\n",
       "       7.57190822e-04, 7.31281605e-04, 6.82359583e-04, 6.45990812e-04,\n",
       "       6.21159081e-04, 5.97879857e-04, 5.85456407e-04, 5.69258476e-04,\n",
       "       4.86638867e-04, 4.76815177e-04, 4.54119206e-04, 4.20436072e-04,\n",
       "       3.91410823e-04, 3.56924241e-04, 3.41422812e-04, 3.21183686e-04,\n",
       "       3.18713769e-04, 3.02290192e-04, 2.65722730e-04, 2.16454292e-04,\n",
       "       1.99527837e-04, 1.92854840e-04, 1.63488766e-04, 1.49551752e-04,\n",
       "       1.36053327e-04, 1.34680045e-04, 1.30625230e-04, 1.26641225e-04,\n",
       "       1.18769166e-04, 1.10736185e-04, 1.06516034e-04, 9.40449944e-05,\n",
       "       8.88516383e-05, 8.40777465e-05, 7.06383266e-05, 6.59048492e-05,\n",
       "       5.94899695e-05, 5.45562017e-05, 4.92572002e-05, 4.13971214e-05,\n",
       "       3.82809611e-05, 2.84728928e-05, 2.40654670e-05, 1.49795375e-05,\n",
       "       1.34956417e-05, 1.27667658e-05, 1.22296538e-05, 9.85566392e-06,\n",
       "       8.61623329e-06, 7.27848577e-06, 6.94437037e-06, 6.43050525e-06,\n",
       "       6.09554923e-06, 5.05539523e-06, 4.89183190e-06, 3.92478834e-06,\n",
       "       3.00206081e-06, 2.59300175e-06, 2.05653579e-06, 1.66750508e-06,\n",
       "       1.60459191e-06, 1.45984488e-06, 1.39933088e-06, 1.01591261e-06,\n",
       "       8.04215658e-07, 5.53532082e-07, 4.29231179e-07, 3.29467870e-07,\n",
       "       2.81142837e-07, 2.72079824e-07, 1.99295072e-07, 1.83732809e-07,\n",
       "       6.72205909e-08, 4.06455149e-08, 3.03008373e-08, 2.42136214e-08,\n",
       "       1.66348585e-08, 8.63278399e-09, 6.18362526e-09, 6.06887862e-09,\n",
       "       5.75088821e-09, 5.01815605e-09, 2.98879530e-09, 2.91442746e-09,\n",
       "       2.52767584e-09, 1.93302380e-09, 9.81501022e-10, 1.26061140e-12,\n",
       "       8.56012529e-13, 6.47660587e-13, 5.90091919e-13, 5.53242693e-13,\n",
       "       5.26453417e-13, 4.90581970e-13, 4.87289078e-13, 3.85264892e-13,\n",
       "       3.72275705e-13, 3.59201074e-13, 3.43497998e-13, 3.27449192e-13,\n",
       "       2.99956143e-13, 2.93182948e-13, 4.74786003e-32, 1.23472861e-33,\n",
       "       1.23472861e-33, 1.23472861e-33, 1.23472861e-33, 1.23472861e-33,\n",
       "       1.23472861e-33, 1.23472861e-33, 1.23472861e-33, 1.23472861e-33,\n",
       "       1.23472861e-33, 1.23472861e-33])"
      ]
     },
     "execution_count": 49,
     "metadata": {},
     "output_type": "execute_result"
    }
   ],
   "source": [
    "pca.explained_variance_ratio_"
   ]
  },
  {
   "cell_type": "code",
   "execution_count": 50,
   "metadata": {},
   "outputs": [
    {
     "data": {
      "text/plain": [
       "array([0.2407451 , 0.45124939, 0.55224124, 0.61302082, 0.66753254,\n",
       "       0.71700506, 0.76348632, 0.79179088, 0.81961933, 0.84334193,\n",
       "       0.86160544, 0.87747132, 0.8916629 , 0.90227011, 0.91193115,\n",
       "       0.92055099, 0.92743404, 0.93398871, 0.93939493, 0.94385717,\n",
       "       0.94795465, 0.95181746, 0.95563281, 0.95914436, 0.96253638,\n",
       "       0.96569358, 0.96863537, 0.97111346, 0.97350443, 0.97548505,\n",
       "       0.97735229, 0.978811  , 0.9802364 , 0.98156903, 0.9828104 ,\n",
       "       0.98402588, 0.98515721, 0.98625633, 0.98718046, 0.98805817,\n",
       "       0.98881536, 0.98954664, 0.990229  , 0.99087499, 0.99149615,\n",
       "       0.99209403, 0.99267949, 0.99324875, 0.99373539, 0.9942122 ,\n",
       "       0.99466632, 0.99508676, 0.99547817, 0.99583509, 0.99617652,\n",
       "       0.9964977 , 0.99681641, 0.9971187 , 0.99738443, 0.99760088,\n",
       "       0.99780041, 0.99799326, 0.99815675, 0.9983063 , 0.99844236,\n",
       "       0.99857704, 0.99870766, 0.9988343 , 0.99895307, 0.99906381,\n",
       "       0.99917032, 0.99926437, 0.99935322, 0.9994373 , 0.99950794,\n",
       "       0.99957384, 0.99963333, 0.99968789, 0.99973715, 0.99977854,\n",
       "       0.99981682, 0.9998453 , 0.99986936, 0.99988434, 0.99989784,\n",
       "       0.9999106 , 0.99992283, 0.99993269, 0.99994131, 0.99994858,\n",
       "       0.99995553, 0.99996196, 0.99996805, 0.99997311, 0.999978  ,\n",
       "       0.99998193, 0.99998493, 0.99998752, 0.99998958, 0.99999125,\n",
       "       0.99999285, 0.99999431, 0.99999571, 0.99999673, 0.99999753,\n",
       "       0.99999808, 0.99999851, 0.99999884, 0.99999912, 0.99999939,\n",
       "       0.99999959, 0.99999978, 0.99999985, 0.99999989, 0.99999992,\n",
       "       0.99999994, 0.99999996, 0.99999997, 0.99999997, 0.99999998,\n",
       "       0.99999998, 0.99999999, 0.99999999, 0.99999999, 1.        ,\n",
       "       1.        , 1.        , 1.        , 1.        , 1.        ,\n",
       "       1.        , 1.        , 1.        , 1.        , 1.        ,\n",
       "       1.        , 1.        , 1.        , 1.        , 1.        ,\n",
       "       1.        , 1.        , 1.        , 1.        , 1.        ,\n",
       "       1.        , 1.        , 1.        , 1.        , 1.        ,\n",
       "       1.        , 1.        , 1.        , 1.        ])"
      ]
     },
     "execution_count": 50,
     "metadata": {},
     "output_type": "execute_result"
    }
   ],
   "source": [
    "np.cumsum(pca.explained_variance_ratio_)"
   ]
  },
  {
   "cell_type": "code",
   "execution_count": 51,
   "metadata": {},
   "outputs": [
    {
     "data": {
      "image/png": "[encoded data removed]",
      "text/plain": [
       "<Figure size 1008x576 with 1 Axes>"
      ]
     },
     "metadata": {
      "needs_background": "light"
     },
     "output_type": "display_data"
    }
   ],
   "source": [
    "import matplotlib.pyplot as plt\n",
    "fig = plt.figure(figsize = (14,8))\n",
    "plt.plot(np.cumsum(pca.explained_variance_ratio_))\n",
    "plt.show()"
   ]
  },
  {
   "cell_type": "code",
   "execution_count": 52,
   "metadata": {},
   "outputs": [],
   "source": [
    "#From the above graph we could see that n_components as 30 will define 90% variance"
   ]
  },
  {
   "cell_type": "code",
   "execution_count": 55,
   "metadata": {},
   "outputs": [],
   "source": [
    "pca = IncrementalPCA(n_components=30)"
   ]
  },
  {
   "cell_type": "code",
   "execution_count": 56,
   "metadata": {},
   "outputs": [],
   "source": [
    "X_train_pca = pca.fit_transform(X_train)"
   ]
  },
  {
   "cell_type": "code",
   "execution_count": 57,
   "metadata": {},
   "outputs": [],
   "source": [
    "logistic_regression = LogisticRegression()\n",
    "model_pca = logistic_regression.fit(X_train_pca,Y_train)"
   ]
  },
  {
   "cell_type": "code",
   "execution_count": 58,
   "metadata": {},
   "outputs": [],
   "source": [
    "Y_test = testing_data[\"churn\"]\n",
    "testing_data.pop(\"churn\")\n",
    "X_test = testing_data"
   ]
  },
  {
   "cell_type": "code",
   "execution_count": 59,
   "metadata": {},
   "outputs": [],
   "source": [
    "X_test_pca = pca.fit_transform(X_test)"
   ]
  },
  {
   "cell_type": "code",
   "execution_count": 60,
   "metadata": {},
   "outputs": [],
   "source": [
    "Y_test_predict = model_pca.predict(X_test_pca)"
   ]
  },
  {
   "cell_type": "code",
   "execution_count": 61,
   "metadata": {},
   "outputs": [
    {
     "data": {
      "text/plain": [
       "0.9158964879852126"
      ]
     },
     "execution_count": 61,
     "metadata": {},
     "output_type": "execute_result"
    }
   ],
   "source": [
    "from sklearn.metrics import accuracy_score\n",
    "accuracy_score(Y_test_predict, Y_test)"
   ]
  },
  {
   "cell_type": "code",
   "execution_count": null,
   "metadata": {},
   "outputs": [],
   "source": []
  },
  {
   "cell_type": "markdown",
   "metadata": {},
   "source": [
    "### Model 5 : PCA with Decision Tree"
   ]
  },
  {
   "cell_type": "code",
   "execution_count": 62,
   "metadata": {},
   "outputs": [
    {
     "name": "stdout",
     "output_type": "stream",
     "text": [
      "[[ 0.48131488 -0.30263129 -1.19476022 ... -0.22404284  0.28370346\n",
      "  -1.11274708]\n",
      " [ 0.28670935  0.07851464 -0.00233442 ...  0.71085014  0.10425933\n",
      "   0.02177335]\n",
      " [-0.71698211 -0.62209069 -0.90875015 ... -0.58683713 -0.43407306\n",
      "   0.39994683]\n",
      " ...\n",
      " [-0.82226552 -0.36542171  0.25058091 ... -0.54342584  0.28370346\n",
      "   1.53446726]\n",
      " [ 1.20930724  1.76810506  1.06609573 ...  1.67571757  0.10425933\n",
      "   0.21086009]\n",
      " [ 0.03899197 -0.47655201 -0.94683348 ... -0.56306428  1.18092411\n",
      "  -2.05818077]]\n"
     ]
    }
   ],
   "source": [
    "from sklearn.tree import DecisionTreeClassifier\n",
    "from sklearn.metrics import classification_report\n",
    "\n",
    "X = telkom_df.drop(['churn'],axis=1)\n",
    "y = telkom_df['churn']\n",
    "X_train, X_test, y_train, y_test = train_test_split(X,y, train_size=0.7,test_size=0.3,random_state=100)\n",
    "\n",
    "scaler = StandardScaler()\n",
    "X_train = scaler.fit_transform(X_train)\n",
    "X_test = scaler.transform(X_test)\n",
    "print(X_train)"
   ]
  },
  {
   "cell_type": "code",
   "execution_count": 63,
   "metadata": {},
   "outputs": [],
   "source": [
    "pca = IncrementalPCA(n_components=30)\n",
    "X_train_pca = pca.fit_transform(X_train)\n",
    "X_test_pca = pca.transform(X_test)"
   ]
  },
  {
   "cell_type": "code",
   "execution_count": 64,
   "metadata": {},
   "outputs": [
    {
     "data": {
      "text/plain": [
       "DecisionTreeClassifier(ccp_alpha=0.0, class_weight=None, criterion='gini',\n",
       "                       max_depth=5, max_features=None, max_leaf_nodes=None,\n",
       "                       min_impurity_decrease=0.0, min_impurity_split=None,\n",
       "                       min_samples_leaf=1, min_samples_split=2,\n",
       "                       min_weight_fraction_leaf=0.0, presort='deprecated',\n",
       "                       random_state=None, splitter='best')"
      ]
     },
     "execution_count": 64,
     "metadata": {},
     "output_type": "execute_result"
    }
   ],
   "source": [
    "# Fitting the decision tree with default hyperparameters\n",
    "\n",
    "Smo = SMOTE(random_state=101)\n",
    "X_train_res, y_train_res = Smo.fit_sample(X_train_pca,y_train)\n",
    "\n",
    "dt_default = DecisionTreeClassifier(max_depth=5)\n",
    "dt_default.fit(X_train_res, y_train_res)"
   ]
  },
  {
   "cell_type": "code",
   "execution_count": 65,
   "metadata": {},
   "outputs": [
    {
     "name": "stdout",
     "output_type": "stream",
     "text": [
      "              precision    recall  f1-score   support\n",
      "\n",
      "           0       0.98      0.82      0.89      8104\n",
      "           1       0.21      0.71      0.33       552\n",
      "\n",
      "    accuracy                           0.81      8656\n",
      "   macro avg       0.59      0.77      0.61      8656\n",
      "weighted avg       0.93      0.81      0.86      8656\n",
      "\n"
     ]
    }
   ],
   "source": [
    "X_test_pca = pca.transform(X_test)\n",
    "y_pred_default = dt_default.predict(X_test_pca)\n",
    "\n",
    "# Printing classification report\n",
    "print(classification_report(y_test, y_pred_default))"
   ]
  },
  {
   "cell_type": "code",
   "execution_count": 66,
   "metadata": {},
   "outputs": [
    {
     "name": "stdout",
     "output_type": "stream",
     "text": [
      "0.8137707948243993\n",
      "[[6651 1453]\n",
      " [ 159  393]]\n"
     ]
    }
   ],
   "source": [
    "# Printing accuracy\n",
    "print(accuracy_score(y_test,y_pred_default))\n",
    "print(confusion_matrix(y_test,y_pred_default))\n"
   ]
  },
  {
   "cell_type": "code",
   "execution_count": 67,
   "metadata": {},
   "outputs": [
    {
     "name": "stdout",
     "output_type": "stream",
     "text": [
      "Fitting 5 folds for each of 16 candidates, totalling 80 fits\n"
     ]
    },
    {
     "name": "stderr",
     "output_type": "stream",
     "text": [
      "[Parallel(n_jobs=-1)]: Using backend LokyBackend with 8 concurrent workers.\n",
      "[Parallel(n_jobs=-1)]: Done  34 tasks      | elapsed:   11.3s\n",
      "[Parallel(n_jobs=-1)]: Done  80 out of  80 | elapsed:   19.3s finished\n"
     ]
    },
    {
     "data": {
      "text/plain": [
       "GridSearchCV(cv=5, error_score=nan,\n",
       "             estimator=DecisionTreeClassifier(ccp_alpha=0.0, class_weight=None,\n",
       "                                              criterion='gini', max_depth=None,\n",
       "                                              max_features=None,\n",
       "                                              max_leaf_nodes=None,\n",
       "                                              min_impurity_decrease=0.0,\n",
       "                                              min_impurity_split=None,\n",
       "                                              min_samples_leaf=1,\n",
       "                                              min_samples_split=2,\n",
       "                                              min_weight_fraction_leaf=0.0,\n",
       "                                              presort='deprecated',\n",
       "                                              random_state=None,\n",
       "                                              splitter='best'),\n",
       "             iid='deprecated', n_jobs=-1,\n",
       "             param_grid={'criterion': ['entropy', 'gini'],\n",
       "                         'max_depth': range(5, 15, 5),\n",
       "                         'min_samples_leaf': range(50, 150, 50),\n",
       "                         'min_samples_split': range(50, 150, 50)},\n",
       "             pre_dispatch='2*n_jobs', refit=True, return_train_score=False,\n",
       "             scoring=None, verbose=1)"
      ]
     },
     "execution_count": 67,
     "metadata": {},
     "output_type": "execute_result"
    }
   ],
   "source": [
    "# GridSearchCV to find optimal max_depth\n",
    "\n",
    "\n",
    "# Create the parameter grid \n",
    "param_grid = {\n",
    "    'max_depth': range(5, 15, 5),\n",
    "    'min_samples_leaf': range(50, 150, 50),\n",
    "    'min_samples_split': range(50, 150, 50),\n",
    "    'criterion': [\"entropy\", \"gini\"]\n",
    "}\n",
    "\n",
    "n_folds = 5\n",
    "\n",
    "# Instantiate the grid search model\n",
    "dtree = DecisionTreeClassifier()\n",
    "grid_search = GridSearchCV(estimator = dtree, param_grid = param_grid, \n",
    "                          cv = n_folds, verbose = 1, n_jobs = -1)\n",
    "\n",
    "# Fit the grid search to the data\n",
    "grid_search.fit(X_train_res,y_train_res)"
   ]
  },
  {
   "cell_type": "code",
   "execution_count": 68,
   "metadata": {},
   "outputs": [
    {
     "name": "stdout",
     "output_type": "stream",
     "text": [
      "best accuracy 0.8328412334487396\n",
      "DecisionTreeClassifier(ccp_alpha=0.0, class_weight=None, criterion='gini',\n",
      "                       max_depth=10, max_features=None, max_leaf_nodes=None,\n",
      "                       min_impurity_decrease=0.0, min_impurity_split=None,\n",
      "                       min_samples_leaf=50, min_samples_split=50,\n",
      "                       min_weight_fraction_leaf=0.0, presort='deprecated',\n",
      "                       random_state=None, splitter='best')\n"
     ]
    }
   ],
   "source": [
    "# printing the optimal accuracy score and hyperparameters\n",
    "print(\"best accuracy\", grid_search.best_score_)\n",
    "print(grid_search.best_estimator_)\n"
   ]
  },
  {
   "cell_type": "code",
   "execution_count": 69,
   "metadata": {},
   "outputs": [
    {
     "name": "stdout",
     "output_type": "stream",
     "text": [
      "Model Accuracy score :  0.9338031423290203\n",
      "[[7993  111]\n",
      " [ 462   90]]\n"
     ]
    }
   ],
   "source": [
    "# model with optimal hyperparameters\n",
    "final_model = DecisionTreeClassifier(criterion = \"gini\", \n",
    "                                  random_state = 100,\n",
    "                                  max_depth=10, \n",
    "                                  min_samples_leaf=50,\n",
    "                                  min_samples_split=50)\n",
    "final_model.fit(X_train_pca, y_train)\n",
    "predictions = final_model.predict(X_test_pca)\n",
    "# accuracy score\n",
    "print('Model Accuracy score : ',final_model.score(X_test_pca,y_test))\n",
    "print(confusion_matrix(y_test,predictions))"
   ]
  },
  {
   "cell_type": "markdown",
   "metadata": {},
   "source": [
    "### Model 6 : PCA with Random Forest Classifier"
   ]
  },
  {
   "cell_type": "code",
   "execution_count": 70,
   "metadata": {},
   "outputs": [],
   "source": [
    "# train test split and over_sampling\n",
    "X = telkom_df.drop(['churn'],axis=1)\n",
    "y = telkom_df['churn']\n",
    "X_train, X_test, y_train, y_test = train_test_split(X,y, train_size=0.7,test_size=0.3,random_state=100)\n",
    "\n",
    "#scaling\n",
    "scaler = StandardScaler()\n",
    "X_train = scaler.fit_transform(X_train)\n",
    "X_test = scaler.transform(X_test)\n",
    "\n",
    "# Running pca with n_componnets as 30 (derived from above)\n",
    "pca = IncrementalPCA(n_components=30)\n",
    "X_train_pca = pca.fit_transform(X_train)\n",
    "\n",
    "Smo = SMOTE(random_state=101)\n",
    "X_train_res, y_train_res = Smo.fit_sample(X_train_pca,y_train)\n",
    "\n"
   ]
  },
  {
   "cell_type": "code",
   "execution_count": 71,
   "metadata": {},
   "outputs": [],
   "source": [
    "#Random Forest Model (fitting with defalut hyper parameters)\n",
    "rf_model = RandomForestClassifier(n_estimators=100,random_state=101).fit(X_train_res,y_train_res)\n",
    "\n",
    "X_test_pca = pca.transform(X_test)\n",
    "\n"
   ]
  },
  {
   "cell_type": "code",
   "execution_count": 72,
   "metadata": {},
   "outputs": [
    {
     "name": "stdout",
     "output_type": "stream",
     "text": [
      "              precision    recall  f1-score   support\n",
      "\n",
      "           0       0.96      0.95      0.96      8104\n",
      "           1       0.39      0.49      0.44       552\n",
      "\n",
      "    accuracy                           0.92      8656\n",
      "   macro avg       0.68      0.72      0.70      8656\n",
      "weighted avg       0.93      0.92      0.92      8656\n",
      "\n",
      "[[7682  422]\n",
      " [ 281  271]]\n",
      "Model Accuracy score :  0.9338031423290203\n"
     ]
    }
   ],
   "source": [
    "predictions = rf_model.predict(X_test_pca)\n",
    "print(classification_report(y_test,predictions))\n",
    "print(confusion_matrix(y_test,predictions))\n",
    "print('Model Accuracy score : ',final_model.score(X_test_pca,y_test))"
   ]
  },
  {
   "cell_type": "code",
   "execution_count": 73,
   "metadata": {},
   "outputs": [
    {
     "name": "stdout",
     "output_type": "stream",
     "text": [
      "Fitting 3 folds for each of 72 candidates, totalling 216 fits\n"
     ]
    },
    {
     "name": "stderr",
     "output_type": "stream",
     "text": [
      "[Parallel(n_jobs=-1)]: Using backend LokyBackend with 8 concurrent workers.\n",
      "[Parallel(n_jobs=-1)]: Done  34 tasks      | elapsed:  1.6min\n",
      "[Parallel(n_jobs=-1)]: Done 184 tasks      | elapsed: 15.1min\n",
      "[Parallel(n_jobs=-1)]: Done 216 out of 216 | elapsed: 20.6min finished\n"
     ]
    },
    {
     "data": {
      "text/plain": [
       "GridSearchCV(cv=3, error_score=nan,\n",
       "             estimator=RandomForestClassifier(bootstrap=True, ccp_alpha=0.0,\n",
       "                                              class_weight=None,\n",
       "                                              criterion='gini', max_depth=None,\n",
       "                                              max_features='auto',\n",
       "                                              max_leaf_nodes=None,\n",
       "                                              max_samples=None,\n",
       "                                              min_impurity_decrease=0.0,\n",
       "                                              min_impurity_split=None,\n",
       "                                              min_samples_leaf=1,\n",
       "                                              min_samples_split=2,\n",
       "                                              min_weight_fraction_leaf=0.0,\n",
       "                                              n_estimators=100, n_jobs=None,\n",
       "                                              oob_score=False,\n",
       "                                              random_state=None, verbose=0,\n",
       "                                              warm_start=False),\n",
       "             iid='deprecated', n_jobs=-1,\n",
       "             param_grid={'max_depth': [4, 8, 10], 'max_features': [5, 10],\n",
       "                         'min_samples_leaf': range(100, 400, 200),\n",
       "                         'min_samples_split': range(200, 500, 200),\n",
       "                         'n_estimators': [100, 200, 300]},\n",
       "             pre_dispatch='2*n_jobs', refit=True, return_train_score=False,\n",
       "             scoring=None, verbose=1)"
      ]
     },
     "execution_count": 73,
     "metadata": {},
     "output_type": "execute_result"
    }
   ],
   "source": [
    "# Tuning the hyper parameters\n",
    "\n",
    "param_grid = {\n",
    "    'max_depth': [4,8,10],\n",
    "    'min_samples_leaf': range(100, 400, 200),\n",
    "    'min_samples_split': range(200, 500, 200),\n",
    "    'n_estimators': [100,200, 300], \n",
    "    'max_features': [5, 10]\n",
    "}\n",
    "# Create a based model\n",
    "rf = RandomForestClassifier()\n",
    "# Instantiate the grid search model\n",
    "grid_search = GridSearchCV(estimator = rf, param_grid = param_grid, \n",
    "                          cv = 3, n_jobs = -1,verbose = 1)\n",
    "# Fit the grid search to the data\n",
    "grid_search.fit(X_train_res,y_train_res)"
   ]
  },
  {
   "cell_type": "code",
   "execution_count": 74,
   "metadata": {},
   "outputs": [
    {
     "name": "stdout",
     "output_type": "stream",
     "text": [
      "We can get accuracy of 0.8520852657313932 using {'max_depth': 10, 'max_features': 5, 'min_samples_leaf': 100, 'min_samples_split': 200, 'n_estimators': 300}\n"
     ]
    }
   ],
   "source": [
    "# printing the optimal accuracy score and hyperparameters\n",
    "print('We can get accuracy of',grid_search.best_score_,'using',grid_search.best_params_)"
   ]
  },
  {
   "cell_type": "code",
   "execution_count": 75,
   "metadata": {},
   "outputs": [
    {
     "data": {
      "text/plain": [
       "RandomForestClassifier(bootstrap=True, ccp_alpha=0.0, class_weight=None,\n",
       "                       criterion='gini', max_depth=10, max_features=5,\n",
       "                       max_leaf_nodes=None, max_samples=None,\n",
       "                       min_impurity_decrease=0.0, min_impurity_split=None,\n",
       "                       min_samples_leaf=100, min_samples_split=200,\n",
       "                       min_weight_fraction_leaf=0.0, n_estimators=300,\n",
       "                       n_jobs=None, oob_score=False, random_state=None,\n",
       "                       verbose=0, warm_start=False)"
      ]
     },
     "execution_count": 75,
     "metadata": {},
     "output_type": "execute_result"
    }
   ],
   "source": [
    "# building model with optimal parameters.\n",
    "rfc_final = RandomForestClassifier(bootstrap=True,\n",
    "                             max_depth=10,\n",
    "                             min_samples_leaf=100, \n",
    "                             min_samples_split=200,\n",
    "                             max_features=5,\n",
    "                             n_estimators=300)\n",
    "\n",
    "rfc_final.fit(X_train_res,y_train_res)"
   ]
  },
  {
   "cell_type": "code",
   "execution_count": 76,
   "metadata": {},
   "outputs": [],
   "source": [
    "# predicting on test data\n",
    "predictions = rfc_final.predict(X_test_pca)"
   ]
  },
  {
   "cell_type": "code",
   "execution_count": 78,
   "metadata": {},
   "outputs": [
    {
     "name": "stdout",
     "output_type": "stream",
     "text": [
      "              precision    recall  f1-score   support\n",
      "\n",
      "           0       0.98      0.88      0.92      8104\n",
      "           1       0.29      0.74      0.42       552\n",
      "\n",
      "    accuracy                           0.87      8656\n",
      "   macro avg       0.63      0.81      0.67      8656\n",
      "weighted avg       0.94      0.87      0.89      8656\n",
      "\n",
      "Confusion matrix :  [[7092 1012]\n",
      " [ 142  410]]\n",
      "Model Accuracy score :  0.9338031423290203\n"
     ]
    }
   ],
   "source": [
    "# performance metrics\n",
    "print(classification_report(y_test,predictions))\n",
    "print('Confusion matrix : ',confusion_matrix(y_test,predictions))\n",
    "print('Model Accuracy score : ',final_model.score(X_test_pca,y_test))"
   ]
  },
  {
   "cell_type": "markdown",
   "metadata": {},
   "source": [
    "## Analysis"
   ]
  },
  {
   "cell_type": "code",
   "execution_count": 79,
   "metadata": {},
   "outputs": [
    {
     "data": {
      "image/png": "[encoded data removed]",
      "text/plain": [
       "<Figure size 432x288 with 1 Axes>"
      ]
     },
     "metadata": {
      "needs_background": "light"
     },
     "output_type": "display_data"
    },
    {
     "data": {
      "image/png": "[encoded data removed]",
      "text/plain": [
       "<Figure size 432x288 with 1 Axes>"
      ]
     },
     "metadata": {
      "needs_background": "light"
     },
     "output_type": "display_data"
    },
    {
     "data": {
      "image/png": "[encoded data removed]",
      "text/plain": [
       "<Figure size 432x288 with 1 Axes>"
      ]
     },
     "metadata": {
      "needs_background": "light"
     },
     "output_type": "display_data"
    },
    {
     "data": {
      "image/png": "[encoded data removed]",
      "text/plain": [
       "<Figure size 432x288 with 1 Axes>"
      ]
     },
     "metadata": {
      "needs_background": "light"
     },
     "output_type": "display_data"
    },
    {
     "data": {
      "image/png": "[encoded data removed]",
      "text/plain": [
       "<Figure size 432x288 with 1 Axes>"
      ]
     },
     "metadata": {
      "needs_background": "light"
     },
     "output_type": "display_data"
    },
    {
     "data": {
      "image/png": "[encoded data removed]",
      "text/plain": [
       "<Figure size 432x288 with 1 Axes>"
      ]
     },
     "metadata": {
      "needs_background": "light"
     },
     "output_type": "display_data"
    },
    {
     "data": {
      "image/png": "[encoded data removed]",
      "text/plain": [
       "<Figure size 432x288 with 1 Axes>"
      ]
     },
     "metadata": {
      "needs_background": "light"
     },
     "output_type": "display_data"
    },
    {
     "data": {
      "image/png": "[encoded data removed]",
      "text/plain": [
       "<Figure size 432x288 with 1 Axes>"
      ]
     },
     "metadata": {
      "needs_background": "light"
     },
     "output_type": "display_data"
    }
   ],
   "source": [
    "major_efficient_col = ['total_og_mou_8','roam_ic_mou_8','roam_og_mou_8','arpu_8','last_day_rch_amt_8',\n",
    "                       'std_og_t2m_mou_8','total_ic_mou_8','fb_user_8']\n",
    "for col in major_efficient_col:\n",
    "    fig, ax = plt.subplots()\n",
    "    sns.boxplot(x='churn', y=col, data=telkom_df)\n",
    "    plt.yscale('log')\n",
    "    plt.show()\n",
    "    "
   ]
  },
  {
   "cell_type": "markdown",
   "metadata": {},
   "source": [
    "## Major affecting KPI\n",
    "\n",
    "- total_og_mou_8 : Total outgoing calls minutes of usage in 8th month.\n",
    "- roam_ic_mou_8 : raom incoming minutes of usage in 8th month.\n",
    "- roam_og_mou_8 : roam outgoing minutes of usage in 8th month.\n",
    "- arpu_8 : Average revenue per user in 8th month.\n",
    "- last_day_rech_amt_8 : last recharge amount in 8th month.\n",
    "- std_og_t2m_mou_8 : STD outgoing calls t2m (Operator T to other operator mobile) minutes of usage in 8th month.\n",
    "- total_ic_mou_8 : Total incoming calls minutes of usage in 8th month.\n",
    "- fb_user_8 : Availing facebook and other social networking services.\n",
    "- std_og_mou_8  : STD outgoing calls minutes of usage in 8th month.\n"
   ]
  },
  {
   "cell_type": "markdown",
   "metadata": {},
   "source": [
    "## Efficient Churn Indicators and Recommendations.\n",
    "\n",
    "- User is more likely to churn if roam_ic_mou_8,roam_og_mou_8 increases significantly.\n",
    "  Recommendation : To give user roaming offers.\n",
    "- User is more likely to churn if he stops using fb_user_8 (Social networkig services) services.\n",
    "  Recommendation : To give user data pack/ social networking offers.\n",
    "- User is more likely to churn if total_ic_mou_8 and total_og_mou_8 decreases significantly.\n",
    "  Recommendation : To give user incoming/outgoing call offers.\n",
    "- User is more likely to churn if last_day_rec_amt_8 decreases significantly.\n",
    "- User is more likely to churn if arpu_8 decreases significantly.\n"
   ]
  },
  {
   "cell_type": "markdown",
   "metadata": {},
   "source": [
    " ## Best Models:\n",
    " - For Interpretation : Random Forest Classifier\n",
    " - For Accuracy : PCA with Random Forest Classifier"
   ]
  },
  {
   "cell_type": "code",
   "execution_count": null,
   "metadata": {},
   "outputs": [],
   "source": []
  }
 ],
 "metadata": {
  "kernelspec": {
   "display_name": "Python 3",
   "language": "python",
   "name": "python3"
  },
  "language_info": {
   "codemirror_mode": {
    "name": "ipython",
    "version": 3
   },
   "file_extension": ".py",
   "mimetype": "text/x-python",
   "name": "python",
   "nbconvert_exporter": "python",
   "pygments_lexer": "ipython3",
   "version": "3.7.3"
  }
 },
 "nbformat": 4,
 "nbformat_minor": 4
}
